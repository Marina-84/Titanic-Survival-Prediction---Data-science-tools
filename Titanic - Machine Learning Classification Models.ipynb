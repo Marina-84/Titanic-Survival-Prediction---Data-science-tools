{
 "cells": [
  {
   "cell_type": "markdown",
   "metadata": {},
   "source": [
    "# Titanic Survival Predictions\n",
    "\n",
    "Several Machine Learning (ML) have been evaluated on their prediction of the survival of the Titanic passengers using the dataset provided in the Kaggle competition.\n",
    "\n",
    "In this notebook the following steps are covered:\n",
    "* Data retrieval from clean dataset\n",
    "* Data preparation: Normalization + Class balancing\n",
    "* ML models evaluation using kfold cross validation\n",
    "* Best model hyperparameter tuning"
   ]
  },
  {
   "cell_type": "code",
   "execution_count": 1,
   "metadata": {},
   "outputs": [],
   "source": [
    "# Import required tools\n",
    "import os\n",
    "import pandas as pd\n",
    "import matplotlib.pyplot as plt\n",
    "import numpy as np\n",
    "import random\n",
    "\n",
    "random.seed(1234)\n",
    "\n",
    "from numpy import mean\n",
    "from numpy import median\n",
    "from numpy import std\n",
    "from sklearn.model_selection import cross_val_score\n",
    "from sklearn.model_selection import RepeatedStratifiedKFold\n",
    "from sklearn.linear_model import LogisticRegression\n",
    "from sklearn.neighbors import KNeighborsClassifier\n",
    "from sklearn.tree import DecisionTreeClassifier\n",
    "from sklearn.svm import SVC\n",
    "from sklearn.naive_bayes import GaussianNB\n",
    "from sklearn.ensemble import RandomForestClassifier\n",
    "from sklearn.ensemble import AdaBoostClassifier\n",
    "from xgboost import XGBClassifier\n",
    "from sklearn.neural_network import MLPClassifier\n",
    "from sklearn.ensemble import BaggingClassifier\n",
    "from sklearn.ensemble import RandomForestClassifier\n",
    "from sklearn.ensemble import ExtraTreesClassifier"
   ]
  },
  {
   "cell_type": "markdown",
   "metadata": {},
   "source": [
    "## Read data\n",
    "The original dataset has been pre-processed. See Titanic - Data Engineering.ipynb'"
   ]
  },
  {
   "cell_type": "code",
   "execution_count": 2,
   "metadata": {},
   "outputs": [
    {
     "data": {
      "text/html": [
       "<div>\n",
       "<style scoped>\n",
       "    .dataframe tbody tr th:only-of-type {\n",
       "        vertical-align: middle;\n",
       "    }\n",
       "\n",
       "    .dataframe tbody tr th {\n",
       "        vertical-align: top;\n",
       "    }\n",
       "\n",
       "    .dataframe thead th {\n",
       "        text-align: right;\n",
       "    }\n",
       "</style>\n",
       "<table border=\"1\" class=\"dataframe\">\n",
       "  <thead>\n",
       "    <tr style=\"text-align: right;\">\n",
       "      <th></th>\n",
       "      <th>PassengerId</th>\n",
       "      <th>Survived</th>\n",
       "      <th>Pclass</th>\n",
       "      <th>Sex</th>\n",
       "      <th>Age</th>\n",
       "      <th>Ticket</th>\n",
       "      <th>Fare</th>\n",
       "      <th>Cabin</th>\n",
       "      <th>Embarked</th>\n",
       "      <th>Title</th>\n",
       "      <th>Age group</th>\n",
       "      <th>Ticket group</th>\n",
       "      <th>Accompanied</th>\n",
       "      <th>Companions</th>\n",
       "      <th>Fare group</th>\n",
       "      <th>FarePerPs</th>\n",
       "      <th>Age_data</th>\n",
       "    </tr>\n",
       "  </thead>\n",
       "  <tbody>\n",
       "    <tr>\n",
       "      <th>0</th>\n",
       "      <td>1.0</td>\n",
       "      <td>0.0</td>\n",
       "      <td>3.0</td>\n",
       "      <td>1.0</td>\n",
       "      <td>22.0</td>\n",
       "      <td>5.0</td>\n",
       "      <td>7.2500</td>\n",
       "      <td>7.0</td>\n",
       "      <td>2.0</td>\n",
       "      <td>5.0</td>\n",
       "      <td>2.0</td>\n",
       "      <td>1.0</td>\n",
       "      <td>1.0</td>\n",
       "      <td>1.0</td>\n",
       "      <td>1.0</td>\n",
       "      <td>3.62500</td>\n",
       "      <td>1.0</td>\n",
       "    </tr>\n",
       "    <tr>\n",
       "      <th>1</th>\n",
       "      <td>2.0</td>\n",
       "      <td>1.0</td>\n",
       "      <td>1.0</td>\n",
       "      <td>0.0</td>\n",
       "      <td>38.0</td>\n",
       "      <td>17599.0</td>\n",
       "      <td>71.2833</td>\n",
       "      <td>2.0</td>\n",
       "      <td>0.0</td>\n",
       "      <td>6.0</td>\n",
       "      <td>3.0</td>\n",
       "      <td>2.0</td>\n",
       "      <td>1.0</td>\n",
       "      <td>1.0</td>\n",
       "      <td>3.0</td>\n",
       "      <td>35.64165</td>\n",
       "      <td>1.0</td>\n",
       "    </tr>\n",
       "    <tr>\n",
       "      <th>2</th>\n",
       "      <td>3.0</td>\n",
       "      <td>1.0</td>\n",
       "      <td>3.0</td>\n",
       "      <td>0.0</td>\n",
       "      <td>26.0</td>\n",
       "      <td>2.0</td>\n",
       "      <td>7.9250</td>\n",
       "      <td>7.0</td>\n",
       "      <td>2.0</td>\n",
       "      <td>4.0</td>\n",
       "      <td>2.0</td>\n",
       "      <td>1.0</td>\n",
       "      <td>0.0</td>\n",
       "      <td>0.0</td>\n",
       "      <td>1.0</td>\n",
       "      <td>7.92500</td>\n",
       "      <td>1.0</td>\n",
       "    </tr>\n",
       "    <tr>\n",
       "      <th>3</th>\n",
       "      <td>4.0</td>\n",
       "      <td>1.0</td>\n",
       "      <td>1.0</td>\n",
       "      <td>0.0</td>\n",
       "      <td>35.0</td>\n",
       "      <td>113803.0</td>\n",
       "      <td>53.1000</td>\n",
       "      <td>2.0</td>\n",
       "      <td>2.0</td>\n",
       "      <td>6.0</td>\n",
       "      <td>3.0</td>\n",
       "      <td>4.0</td>\n",
       "      <td>1.0</td>\n",
       "      <td>1.0</td>\n",
       "      <td>3.0</td>\n",
       "      <td>26.55000</td>\n",
       "      <td>1.0</td>\n",
       "    </tr>\n",
       "    <tr>\n",
       "      <th>4</th>\n",
       "      <td>5.0</td>\n",
       "      <td>0.0</td>\n",
       "      <td>3.0</td>\n",
       "      <td>1.0</td>\n",
       "      <td>35.0</td>\n",
       "      <td>373450.0</td>\n",
       "      <td>8.0500</td>\n",
       "      <td>7.0</td>\n",
       "      <td>2.0</td>\n",
       "      <td>5.0</td>\n",
       "      <td>3.0</td>\n",
       "      <td>5.0</td>\n",
       "      <td>0.0</td>\n",
       "      <td>0.0</td>\n",
       "      <td>1.0</td>\n",
       "      <td>8.05000</td>\n",
       "      <td>1.0</td>\n",
       "    </tr>\n",
       "    <tr>\n",
       "      <th>5</th>\n",
       "      <td>6.0</td>\n",
       "      <td>0.0</td>\n",
       "      <td>3.0</td>\n",
       "      <td>1.0</td>\n",
       "      <td>27.0</td>\n",
       "      <td>330877.0</td>\n",
       "      <td>8.4583</td>\n",
       "      <td>7.0</td>\n",
       "      <td>1.0</td>\n",
       "      <td>5.0</td>\n",
       "      <td>2.0</td>\n",
       "      <td>5.0</td>\n",
       "      <td>0.0</td>\n",
       "      <td>0.0</td>\n",
       "      <td>1.0</td>\n",
       "      <td>8.45830</td>\n",
       "      <td>0.0</td>\n",
       "    </tr>\n",
       "    <tr>\n",
       "      <th>6</th>\n",
       "      <td>7.0</td>\n",
       "      <td>0.0</td>\n",
       "      <td>1.0</td>\n",
       "      <td>1.0</td>\n",
       "      <td>54.0</td>\n",
       "      <td>17463.0</td>\n",
       "      <td>51.8625</td>\n",
       "      <td>4.0</td>\n",
       "      <td>2.0</td>\n",
       "      <td>5.0</td>\n",
       "      <td>3.0</td>\n",
       "      <td>2.0</td>\n",
       "      <td>0.0</td>\n",
       "      <td>0.0</td>\n",
       "      <td>3.0</td>\n",
       "      <td>51.86250</td>\n",
       "      <td>1.0</td>\n",
       "    </tr>\n",
       "    <tr>\n",
       "      <th>7</th>\n",
       "      <td>8.0</td>\n",
       "      <td>0.0</td>\n",
       "      <td>3.0</td>\n",
       "      <td>1.0</td>\n",
       "      <td>2.0</td>\n",
       "      <td>349909.0</td>\n",
       "      <td>21.0750</td>\n",
       "      <td>7.0</td>\n",
       "      <td>2.0</td>\n",
       "      <td>3.0</td>\n",
       "      <td>1.0</td>\n",
       "      <td>5.0</td>\n",
       "      <td>1.0</td>\n",
       "      <td>4.0</td>\n",
       "      <td>2.0</td>\n",
       "      <td>4.21500</td>\n",
       "      <td>1.0</td>\n",
       "    </tr>\n",
       "    <tr>\n",
       "      <th>8</th>\n",
       "      <td>9.0</td>\n",
       "      <td>1.0</td>\n",
       "      <td>3.0</td>\n",
       "      <td>0.0</td>\n",
       "      <td>27.0</td>\n",
       "      <td>347742.0</td>\n",
       "      <td>11.1333</td>\n",
       "      <td>7.0</td>\n",
       "      <td>2.0</td>\n",
       "      <td>6.0</td>\n",
       "      <td>2.0</td>\n",
       "      <td>5.0</td>\n",
       "      <td>1.0</td>\n",
       "      <td>2.0</td>\n",
       "      <td>1.0</td>\n",
       "      <td>3.71110</td>\n",
       "      <td>1.0</td>\n",
       "    </tr>\n",
       "    <tr>\n",
       "      <th>9</th>\n",
       "      <td>10.0</td>\n",
       "      <td>1.0</td>\n",
       "      <td>2.0</td>\n",
       "      <td>0.0</td>\n",
       "      <td>14.0</td>\n",
       "      <td>237736.0</td>\n",
       "      <td>30.0708</td>\n",
       "      <td>7.0</td>\n",
       "      <td>0.0</td>\n",
       "      <td>6.0</td>\n",
       "      <td>1.0</td>\n",
       "      <td>4.0</td>\n",
       "      <td>1.0</td>\n",
       "      <td>1.0</td>\n",
       "      <td>2.0</td>\n",
       "      <td>15.03540</td>\n",
       "      <td>1.0</td>\n",
       "    </tr>\n",
       "  </tbody>\n",
       "</table>\n",
       "</div>"
      ],
      "text/plain": [
       "   PassengerId  Survived  Pclass  Sex   Age    Ticket     Fare  Cabin  \\\n",
       "0          1.0       0.0     3.0  1.0  22.0       5.0   7.2500    7.0   \n",
       "1          2.0       1.0     1.0  0.0  38.0   17599.0  71.2833    2.0   \n",
       "2          3.0       1.0     3.0  0.0  26.0       2.0   7.9250    7.0   \n",
       "3          4.0       1.0     1.0  0.0  35.0  113803.0  53.1000    2.0   \n",
       "4          5.0       0.0     3.0  1.0  35.0  373450.0   8.0500    7.0   \n",
       "5          6.0       0.0     3.0  1.0  27.0  330877.0   8.4583    7.0   \n",
       "6          7.0       0.0     1.0  1.0  54.0   17463.0  51.8625    4.0   \n",
       "7          8.0       0.0     3.0  1.0   2.0  349909.0  21.0750    7.0   \n",
       "8          9.0       1.0     3.0  0.0  27.0  347742.0  11.1333    7.0   \n",
       "9         10.0       1.0     2.0  0.0  14.0  237736.0  30.0708    7.0   \n",
       "\n",
       "   Embarked  Title  Age group  Ticket group  Accompanied  Companions  \\\n",
       "0       2.0    5.0        2.0           1.0          1.0         1.0   \n",
       "1       0.0    6.0        3.0           2.0          1.0         1.0   \n",
       "2       2.0    4.0        2.0           1.0          0.0         0.0   \n",
       "3       2.0    6.0        3.0           4.0          1.0         1.0   \n",
       "4       2.0    5.0        3.0           5.0          0.0         0.0   \n",
       "5       1.0    5.0        2.0           5.0          0.0         0.0   \n",
       "6       2.0    5.0        3.0           2.0          0.0         0.0   \n",
       "7       2.0    3.0        1.0           5.0          1.0         4.0   \n",
       "8       2.0    6.0        2.0           5.0          1.0         2.0   \n",
       "9       0.0    6.0        1.0           4.0          1.0         1.0   \n",
       "\n",
       "   Fare group  FarePerPs  Age_data  \n",
       "0         1.0    3.62500       1.0  \n",
       "1         3.0   35.64165       1.0  \n",
       "2         1.0    7.92500       1.0  \n",
       "3         3.0   26.55000       1.0  \n",
       "4         1.0    8.05000       1.0  \n",
       "5         1.0    8.45830       0.0  \n",
       "6         3.0   51.86250       1.0  \n",
       "7         2.0    4.21500       1.0  \n",
       "8         1.0    3.71110       1.0  \n",
       "9         2.0   15.03540       1.0  "
      ]
     },
     "execution_count": 2,
     "metadata": {},
     "output_type": "execute_result"
    }
   ],
   "source": [
    "# Load clean dataframe resulting from the 'Titanic - Data Engineering.ipynb' file\n",
    "df_train_clean = pd.read_csv(os.getcwd() + '\\Clean_Titanic_train_dataframe.csv', na_values=\"?\")\n",
    "df_train_clean.head(10)"
   ]
  },
  {
   "cell_type": "code",
   "execution_count": 3,
   "metadata": {},
   "outputs": [],
   "source": [
    "# Segregate target data\n",
    "X = df_train_clean.drop(['PassengerId','Survived'], axis=1).copy()\n",
    "y = df_train_clean['Survived'].copy()"
   ]
  },
  {
   "cell_type": "markdown",
   "metadata": {},
   "source": [
    "## Data preparation\n",
    "### Normalization"
   ]
  },
  {
   "cell_type": "code",
   "execution_count": 4,
   "metadata": {},
   "outputs": [],
   "source": [
    "# Normalise data\n",
    "from sklearn import preprocessing\n",
    "def NormaliseInputData(X):\n",
    "    min_max_scaler = preprocessing.MinMaxScaler()\n",
    "    return min_max_scaler.fit_transform(X)\n",
    "\n",
    "X = NormaliseInputData(X)"
   ]
  },
  {
   "cell_type": "markdown",
   "metadata": {},
   "source": [
    "### Class balance\n",
    "See 'Titanic - Dealing with imbalance data - Effect of re-sampling in several ML algorithms.ipynb'"
   ]
  },
  {
   "cell_type": "code",
   "execution_count": 5,
   "metadata": {},
   "outputs": [
    {
     "name": "stderr",
     "output_type": "stream",
     "text": [
      "C:\\Users\\Marina\\Anaconda3\\lib\\site-packages\\sklearn\\utils\\deprecation.py:144: FutureWarning: The sklearn.neighbors.base module is  deprecated in version 0.22 and will be removed in version 0.24. The corresponding classes / functions should instead be imported from sklearn.neighbors. Anything that cannot be imported from sklearn.neighbors is now part of the private API.\n",
      "  warnings.warn(message, FutureWarning)\n",
      "C:\\Users\\Marina\\Anaconda3\\lib\\site-packages\\sklearn\\utils\\deprecation.py:144: FutureWarning: The sklearn.ensemble.bagging module is  deprecated in version 0.22 and will be removed in version 0.24. The corresponding classes / functions should instead be imported from sklearn.ensemble. Anything that cannot be imported from sklearn.ensemble is now part of the private API.\n",
      "  warnings.warn(message, FutureWarning)\n",
      "C:\\Users\\Marina\\Anaconda3\\lib\\site-packages\\sklearn\\utils\\deprecation.py:144: FutureWarning: The sklearn.ensemble.base module is  deprecated in version 0.22 and will be removed in version 0.24. The corresponding classes / functions should instead be imported from sklearn.ensemble. Anything that cannot be imported from sklearn.ensemble is now part of the private API.\n",
      "  warnings.warn(message, FutureWarning)\n",
      "C:\\Users\\Marina\\Anaconda3\\lib\\site-packages\\sklearn\\utils\\deprecation.py:144: FutureWarning: The sklearn.ensemble.forest module is  deprecated in version 0.22 and will be removed in version 0.24. The corresponding classes / functions should instead be imported from sklearn.ensemble. Anything that cannot be imported from sklearn.ensemble is now part of the private API.\n",
      "  warnings.warn(message, FutureWarning)\n",
      "C:\\Users\\Marina\\Anaconda3\\lib\\site-packages\\sklearn\\utils\\deprecation.py:144: FutureWarning: The sklearn.utils.testing module is  deprecated in version 0.22 and will be removed in version 0.24. The corresponding classes / functions should instead be imported from sklearn.utils. Anything that cannot be imported from sklearn.utils is now part of the private API.\n",
      "  warnings.warn(message, FutureWarning)\n",
      "C:\\Users\\Marina\\Anaconda3\\lib\\site-packages\\sklearn\\utils\\deprecation.py:144: FutureWarning: The sklearn.metrics.classification module is  deprecated in version 0.22 and will be removed in version 0.24. The corresponding classes / functions should instead be imported from sklearn.metrics. Anything that cannot be imported from sklearn.metrics is now part of the private API.\n",
      "  warnings.warn(message, FutureWarning)\n",
      "C:\\Users\\Marina\\Anaconda3\\lib\\site-packages\\sklearn\\utils\\deprecation.py:87: FutureWarning: Function safe_indexing is deprecated; safe_indexing is deprecated in version 0.22 and will be removed in version 0.24.\n",
      "  warnings.warn(msg, category=FutureWarning)\n",
      "C:\\Users\\Marina\\Anaconda3\\lib\\site-packages\\sklearn\\utils\\deprecation.py:87: FutureWarning: Function safe_indexing is deprecated; safe_indexing is deprecated in version 0.22 and will be removed in version 0.24.\n",
      "  warnings.warn(msg, category=FutureWarning)\n"
     ]
    }
   ],
   "source": [
    "from imblearn.combine import SMOTETomek\n",
    "smt = SMOTETomek(ratio='auto')\n",
    "X_smt, y_smt = smt.fit_sample(X, y)\n",
    "\n",
    "import warnings\n",
    "warnings.simplefilter(action='ignore', category=FutureWarning)"
   ]
  },
  {
   "cell_type": "markdown",
   "metadata": {},
   "source": [
    "## ML models evaluation"
   ]
  },
  {
   "cell_type": "code",
   "execution_count": 6,
   "metadata": {
    "scrolled": true
   },
   "outputs": [
    {
     "name": "stdout",
     "output_type": "stream",
     "text": [
      ">lr 82.241 (3.978)\n",
      ">knn 86.485 (3.119)\n",
      ">bayes 76.801 (4.715)\n",
      ">svm 84.974 (3.758)\n",
      ">cart 86.925 (3.043)\n",
      ">rf 90.143 (2.856)\n",
      ">ada 86.793 (3.299)\n",
      ">xgb 88.708 (3.290)\n",
      ">mlp 86.039 (3.742)\n",
      ">bag 88.361 (3.343)\n",
      ">etc 91.377 (2.537)\n"
     ]
    },
    {
     "data": {
      "image/png": "[encoded data removed]",
      "text/plain": [
       "<Figure size 432x288 with 1 Axes>"
      ]
     },
     "metadata": {
      "needs_background": "light"
     },
     "output_type": "display_data"
    }
   ],
   "source": [
    "# get a list of models to evaluate\n",
    "def get_models():\n",
    "    models = dict()\n",
    "    models['lr'] = LogisticRegression()\n",
    "    models['knn'] = KNeighborsClassifier()\n",
    "    models['bayes'] = GaussianNB()\n",
    "    models['svm'] = SVC()\n",
    "    models['cart'] = DecisionTreeClassifier()\n",
    "    models['rf'] = RandomForestClassifier(n_estimators=100)\n",
    "    models['ada'] = AdaBoostClassifier()# evaluate a give model using cross-validation\n",
    "    models['xgb'] = XGBClassifier(objective='binary:logistic', booster='gbtree')\n",
    "    models['mlp'] = MLPClassifier()\n",
    "    models['bag'] = BaggingClassifier()\n",
    "    models['etc'] = ExtraTreesClassifier()\n",
    "    return models\n",
    "\n",
    "def evaluate_model(model, X, y):\n",
    "    cv = RepeatedStratifiedKFold(n_splits=10, n_repeats=3, random_state=1)\n",
    "    scores = cross_val_score(model, X, y, scoring='accuracy', cv=cv, n_jobs=-1, error_score='raise')\n",
    "    return scores\n",
    " \n",
    "# get the models to evaluate\n",
    "models = get_models()\n",
    "\n",
    "# evaluate the models and store results\n",
    "def evaluate_model_series(models):\n",
    "    results, names = list(), list()\n",
    "    for name, model in models.items():\n",
    "        scores = evaluate_model(model, X_smt, y_smt)\n",
    "        results.append(scores)\n",
    "        names.append(name)\n",
    "        print('>%s %.3f (%.3f)' % (name, 100*mean(scores), 100*std(scores)))\n",
    "    return results, names,\n",
    "    \n",
    "# plot model performance for comparison\n",
    "def performance_boxplots(results, names):\n",
    "    plt.boxplot(results, labels=names, showmeans=True)\n",
    "    plt.ylabel('Accuracy')\n",
    "    plt.xlabel('Machine Learning Models')\n",
    "    plt.grid()\n",
    "    plt.show()\n",
    "\n",
    "# Evaluate all defined modes and plot performance comparison\n",
    "results, names = evaluate_model_series(models)\n",
    "performance_boxplots(results, names)"
   ]
  },
  {
   "cell_type": "code",
   "execution_count": 7,
   "metadata": {},
   "outputs": [
    {
     "name": "stdout",
     "output_type": "stream",
     "text": [
      "Mean scores:\n",
      "> etc 91.377 (2.537)\n",
      "> rf 90.143 (2.856)\n",
      "> xgb 88.708 (3.290)\n",
      "> bag 88.361 (3.343)\n",
      "> cart 86.925 (3.043)\n",
      "> ada 86.793 (3.299)\n",
      "> knn 86.485 (3.119)\n",
      "> mlp 86.039 (3.742)\n",
      "> svm 84.974 (3.758)\n",
      "> lr 82.241 (3.978)\n",
      "> bayes 76.801 (4.715)\n",
      "Best model: etc, with mean score 91.377\n"
     ]
    }
   ],
   "source": [
    "# Print results by descending performance order\n",
    "mean_scores = mean(results, axis=1)\n",
    "std_scores = std(results, axis=1)\n",
    "idx = np.argsort(mean_scores)\n",
    "print('Mean scores:')\n",
    "for i in idx[::-1]:\n",
    "    print('> %s %.3f (%.3f)' % (names[i], 100*mean_scores[i], 100*std_scores[i]))\n",
    "\n",
    "print(\"Best model: %s, with mean score %.3f\" % (names[idx[-1]], 100*mean_scores[idx[-1]]))\n",
    "original_score = 100*mean_scores[idx[-1]]"
   ]
  },
  {
   "cell_type": "markdown",
   "metadata": {},
   "source": [
    "## Hyperparameter tunning\n",
    "\n",
    "### Number of trees:"
   ]
  },
  {
   "cell_type": "code",
   "execution_count": 8,
   "metadata": {},
   "outputs": [
    {
     "name": "stdout",
     "output_type": "stream",
     "text": [
      ">50 91.173 (2.708)\n",
      ">100 91.548 (2.565)\n",
      ">150 91.618 (2.541)\n",
      ">200 91.376 (2.527)\n",
      ">250 91.514 (2.792)\n"
     ]
    },
    {
     "data": {
      "image/png": "[encoded data removed]",
      "text/plain": [
       "<Figure size 432x288 with 1 Axes>"
      ]
     },
     "metadata": {
      "needs_background": "light"
     },
     "output_type": "display_data"
    },
    {
     "name": "stdout",
     "output_type": "stream",
     "text": [
      "n_estimators: 150\n"
     ]
    },
    {
     "data": {
      "image/png": "[encoded data removed]",
      "text/plain": [
       "<Figure size 432x288 with 1 Axes>"
      ]
     },
     "metadata": {
      "needs_background": "light"
     },
     "output_type": "display_data"
    }
   ],
   "source": [
    "# get a list of models to evaluate\n",
    "def n_trees_models(n_trees):\n",
    "    models = dict()\n",
    "    for n in n_trees:\n",
    "        models[str(n)] = ExtraTreesClassifier(n_estimators=n)\n",
    "    return models\n",
    "\n",
    "# Refine search\n",
    "ntrees = np.arange(50,300,50)\n",
    "results_etc_ntress, names_etc_ntress = evaluate_model_series(n_trees_models(ntrees))\n",
    "performance_boxplots(results_etc_ntress, names_etc_ntress)\n",
    "plt.plot(ntrees, mean(results_etc_ntress, axis=1))\n",
    "plt.xlabel('number of trees')\n",
    "\n",
    "# best hyperparameter\n",
    "N_estimators = ntrees[np.argmax(mean(results_etc_ntress, axis=1))]\n",
    "print('n_estimators:', N_estimators)"
   ]
  },
  {
   "cell_type": "markdown",
   "metadata": {},
   "source": [
    "### Max features:"
   ]
  },
  {
   "cell_type": "code",
   "execution_count": 9,
   "metadata": {
    "scrolled": true
   },
   "outputs": [
    {
     "name": "stdout",
     "output_type": "stream",
     "text": [
      ">1 91.311 (2.695)\n",
      ">2 91.686 (2.666)\n",
      ">3 91.480 (2.652)\n",
      ">4 91.206 (2.592)\n",
      ">5 91.137 (2.538)\n",
      ">6 91.308 (2.663)\n",
      ">7 91.171 (2.804)\n",
      ">8 91.136 (2.892)\n",
      ">9 91.239 (2.664)\n",
      ">10 91.102 (2.813)\n",
      ">11 90.998 (2.813)\n",
      ">12 90.930 (2.889)\n",
      ">13 90.964 (2.859)\n",
      ">14 90.930 (2.595)\n"
     ]
    },
    {
     "data": {
      "image/png": "[encoded data removed]",
      "text/plain": [
       "<Figure size 432x288 with 1 Axes>"
      ]
     },
     "metadata": {
      "needs_background": "light"
     },
     "output_type": "display_data"
    },
    {
     "name": "stdout",
     "output_type": "stream",
     "text": [
      "max_features: 2\n"
     ]
    },
    {
     "data": {
      "image/png": "[encoded data removed]",
      "text/plain": [
       "<Figure size 432x288 with 1 Axes>"
      ]
     },
     "metadata": {
      "needs_background": "light"
     },
     "output_type": "display_data"
    }
   ],
   "source": [
    "def max_features_models(Range):\n",
    "    models = dict()\n",
    "    # explore number of features from 1 to 20\n",
    "    for i in Range:\n",
    "        models[str(i)] = ExtraTreesClassifier(n_estimators=N_estimators, max_features=i)\n",
    "    return models\n",
    "\n",
    "# Evaluate all defined modes and plot performance comparison\n",
    "mfeatures = range(1, 15)\n",
    "results_etc_max_features, names_etc_max_features = evaluate_model_series(max_features_models(mfeatures))\n",
    "performance_boxplots(results_etc_max_features, names_etc_max_features)\n",
    "plt.plot(mfeatures, mean(results_etc_max_features, axis=1))\n",
    "plt.xlabel('max features')\n",
    "\n",
    "# best hyperparameter\n",
    "Max_features = mfeatures[np.argmax(mean(results_etc_max_features, axis=1))]\n",
    "print('max_features:', Max_features)"
   ]
  },
  {
   "cell_type": "markdown",
   "metadata": {},
   "source": [
    "### Using GridSearchCV"
   ]
  },
  {
   "cell_type": "code",
   "execution_count": 10,
   "metadata": {},
   "outputs": [
    {
     "name": "stdout",
     "output_type": "stream",
     "text": [
      "Best without re-sampling: 0.821 using {'max_features': 4, 'n_estimators': 150}\n",
      "Best with re-sampling: 0.918 using {'max_features': 3, 'n_estimators': 250}\n"
     ]
    }
   ],
   "source": [
    "from sklearn.model_selection import GridSearchCV\n",
    "\n",
    "# Grid parameters\n",
    "param_grid = dict(\n",
    "    n_estimators=np.arange(50,300,50),\n",
    "    max_features=range(1, 5),\n",
    "#    criterion=['gini', 'entropy'],\n",
    "#    min_samples_split = range(1, 6),\n",
    ")\n",
    "\n",
    "# Grid search\n",
    "cv = RepeatedStratifiedKFold(n_splits=10, n_repeats=3, random_state=1)\n",
    "grid = GridSearchCV(estimator=ExtraTreesClassifier(), param_grid=param_grid, cv = cv, n_jobs=-1)\n",
    "\n",
    "# Fit to original clean, normalized dataset\n",
    "grid_result = grid.fit(X, y)\n",
    "print(\"Best without re-sampling: %.3f using %s\" % (grid_result.best_score_, grid_result.best_params_))\n",
    "\n",
    "# Fit to original clean, normalized and re-sampled for class balance dataset\n",
    "grid_result = grid.fit(X_smt, y_smt)\n",
    "print(\"Best with re-sampling: %.3f using %s\" % (grid_result.best_score_, grid_result.best_params_))\n",
    "\n",
    "tunned_score = 100 * grid_result.best_score_"
   ]
  },
  {
   "cell_type": "code",
   "execution_count": 11,
   "metadata": {},
   "outputs": [
    {
     "name": "stdout",
     "output_type": "stream",
     "text": [
      "Original model mean score 91.377\n",
      "Tunned model mean score 91.822\n",
      "Hyperparameter tunning gain: 0.445\n"
     ]
    }
   ],
   "source": [
    "# Print original versus tunned results\n",
    "print(\"Original model mean score %.3f\" % original_score)\n",
    "print(\"Tunned model mean score %.3f\" % tunned_score)\n",
    "print(\"Hyperparameter tunning gain: %.3f\" % (tunned_score-original_score))"
   ]
  },
  {
   "cell_type": "code",
   "execution_count": null,
   "metadata": {},
   "outputs": [],
   "source": []
  }
 ],
 "metadata": {
  "kernelspec": {
   "display_name": "Python 3",
   "language": "python",
   "name": "python3"
  },
  "language_info": {
   "codemirror_mode": {
    "name": "ipython",
    "version": 3
   },
   "file_extension": ".py",
   "mimetype": "text/x-python",
   "name": "python",
   "nbconvert_exporter": "python",
   "pygments_lexer": "ipython3",
   "version": "3.7.3"
  }
 },
 "nbformat": 4,
 "nbformat_minor": 2
}
