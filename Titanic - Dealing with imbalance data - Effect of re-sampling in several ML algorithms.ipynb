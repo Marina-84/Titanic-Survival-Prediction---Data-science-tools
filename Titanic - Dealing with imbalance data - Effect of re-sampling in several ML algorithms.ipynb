{
 "cells": [
  {
   "cell_type": "markdown",
   "metadata": {},
   "source": [
    "# Titanic dataset - Dealing with imbalance data\n",
    "## Effect of re-sampling in several ML algorithms"
   ]
  },
  {
   "cell_type": "code",
   "execution_count": 7,
   "metadata": {},
   "outputs": [],
   "source": [
    "# Import required packages\n",
    "import os\n",
    "import pandas as pd\n",
    "\n",
    "import matplotlib.pyplot as plt\n",
    "import numpy as np\n",
    "\n",
    "from sklearn import preprocessing\n",
    "#from sklearn.metrics import accuracy_score\n",
    "\n",
    "from sklearn.linear_model import LogisticRegression\n",
    "from sklearn.tree import DecisionTreeClassifier\n",
    "from sklearn.neighbors import KNeighborsClassifier\n",
    "from sklearn.svm import SVC\n",
    "from sklearn.naive_bayes import GaussianNB\n",
    "\n",
    "from numpy import mean\n",
    "from numpy import std\n",
    "from sklearn.model_selection import cross_val_score\n",
    "from sklearn.model_selection import RepeatedStratifiedKFold\n"
   ]
  },
  {
   "cell_type": "code",
   "execution_count": 8,
   "metadata": {
    "scrolled": true
   },
   "outputs": [
    {
     "data": {
      "text/html": [
       "<div>\n",
       "<style scoped>\n",
       "    .dataframe tbody tr th:only-of-type {\n",
       "        vertical-align: middle;\n",
       "    }\n",
       "\n",
       "    .dataframe tbody tr th {\n",
       "        vertical-align: top;\n",
       "    }\n",
       "\n",
       "    .dataframe thead th {\n",
       "        text-align: right;\n",
       "    }\n",
       "</style>\n",
       "<table border=\"1\" class=\"dataframe\">\n",
       "  <thead>\n",
       "    <tr style=\"text-align: right;\">\n",
       "      <th></th>\n",
       "      <th>PassengerId</th>\n",
       "      <th>Survived</th>\n",
       "      <th>Pclass</th>\n",
       "      <th>Sex</th>\n",
       "      <th>Age</th>\n",
       "      <th>Ticket</th>\n",
       "      <th>Fare</th>\n",
       "      <th>Cabin</th>\n",
       "      <th>Embarked</th>\n",
       "      <th>Title</th>\n",
       "      <th>Age group</th>\n",
       "      <th>Ticket group</th>\n",
       "      <th>Accompanied</th>\n",
       "      <th>Companions</th>\n",
       "      <th>Fare group</th>\n",
       "      <th>FarePerPs</th>\n",
       "      <th>Age_data</th>\n",
       "    </tr>\n",
       "  </thead>\n",
       "  <tbody>\n",
       "    <tr>\n",
       "      <th>0</th>\n",
       "      <td>1.0</td>\n",
       "      <td>0.0</td>\n",
       "      <td>3.0</td>\n",
       "      <td>1.0</td>\n",
       "      <td>22.0</td>\n",
       "      <td>5.0</td>\n",
       "      <td>7.2500</td>\n",
       "      <td>7.0</td>\n",
       "      <td>2.0</td>\n",
       "      <td>5.0</td>\n",
       "      <td>2.0</td>\n",
       "      <td>1.0</td>\n",
       "      <td>1.0</td>\n",
       "      <td>1.0</td>\n",
       "      <td>1.0</td>\n",
       "      <td>3.62500</td>\n",
       "      <td>1.0</td>\n",
       "    </tr>\n",
       "    <tr>\n",
       "      <th>1</th>\n",
       "      <td>2.0</td>\n",
       "      <td>1.0</td>\n",
       "      <td>1.0</td>\n",
       "      <td>0.0</td>\n",
       "      <td>38.0</td>\n",
       "      <td>17599.0</td>\n",
       "      <td>71.2833</td>\n",
       "      <td>2.0</td>\n",
       "      <td>0.0</td>\n",
       "      <td>6.0</td>\n",
       "      <td>3.0</td>\n",
       "      <td>2.0</td>\n",
       "      <td>1.0</td>\n",
       "      <td>1.0</td>\n",
       "      <td>3.0</td>\n",
       "      <td>35.64165</td>\n",
       "      <td>1.0</td>\n",
       "    </tr>\n",
       "    <tr>\n",
       "      <th>2</th>\n",
       "      <td>3.0</td>\n",
       "      <td>1.0</td>\n",
       "      <td>3.0</td>\n",
       "      <td>0.0</td>\n",
       "      <td>26.0</td>\n",
       "      <td>2.0</td>\n",
       "      <td>7.9250</td>\n",
       "      <td>7.0</td>\n",
       "      <td>2.0</td>\n",
       "      <td>4.0</td>\n",
       "      <td>2.0</td>\n",
       "      <td>1.0</td>\n",
       "      <td>0.0</td>\n",
       "      <td>0.0</td>\n",
       "      <td>1.0</td>\n",
       "      <td>7.92500</td>\n",
       "      <td>1.0</td>\n",
       "    </tr>\n",
       "    <tr>\n",
       "      <th>3</th>\n",
       "      <td>4.0</td>\n",
       "      <td>1.0</td>\n",
       "      <td>1.0</td>\n",
       "      <td>0.0</td>\n",
       "      <td>35.0</td>\n",
       "      <td>113803.0</td>\n",
       "      <td>53.1000</td>\n",
       "      <td>2.0</td>\n",
       "      <td>2.0</td>\n",
       "      <td>6.0</td>\n",
       "      <td>3.0</td>\n",
       "      <td>4.0</td>\n",
       "      <td>1.0</td>\n",
       "      <td>1.0</td>\n",
       "      <td>3.0</td>\n",
       "      <td>26.55000</td>\n",
       "      <td>1.0</td>\n",
       "    </tr>\n",
       "    <tr>\n",
       "      <th>4</th>\n",
       "      <td>5.0</td>\n",
       "      <td>0.0</td>\n",
       "      <td>3.0</td>\n",
       "      <td>1.0</td>\n",
       "      <td>35.0</td>\n",
       "      <td>373450.0</td>\n",
       "      <td>8.0500</td>\n",
       "      <td>7.0</td>\n",
       "      <td>2.0</td>\n",
       "      <td>5.0</td>\n",
       "      <td>3.0</td>\n",
       "      <td>5.0</td>\n",
       "      <td>0.0</td>\n",
       "      <td>0.0</td>\n",
       "      <td>1.0</td>\n",
       "      <td>8.05000</td>\n",
       "      <td>1.0</td>\n",
       "    </tr>\n",
       "    <tr>\n",
       "      <th>5</th>\n",
       "      <td>6.0</td>\n",
       "      <td>0.0</td>\n",
       "      <td>3.0</td>\n",
       "      <td>1.0</td>\n",
       "      <td>27.0</td>\n",
       "      <td>330877.0</td>\n",
       "      <td>8.4583</td>\n",
       "      <td>7.0</td>\n",
       "      <td>1.0</td>\n",
       "      <td>5.0</td>\n",
       "      <td>2.0</td>\n",
       "      <td>5.0</td>\n",
       "      <td>0.0</td>\n",
       "      <td>0.0</td>\n",
       "      <td>1.0</td>\n",
       "      <td>8.45830</td>\n",
       "      <td>0.0</td>\n",
       "    </tr>\n",
       "    <tr>\n",
       "      <th>6</th>\n",
       "      <td>7.0</td>\n",
       "      <td>0.0</td>\n",
       "      <td>1.0</td>\n",
       "      <td>1.0</td>\n",
       "      <td>54.0</td>\n",
       "      <td>17463.0</td>\n",
       "      <td>51.8625</td>\n",
       "      <td>4.0</td>\n",
       "      <td>2.0</td>\n",
       "      <td>5.0</td>\n",
       "      <td>3.0</td>\n",
       "      <td>2.0</td>\n",
       "      <td>0.0</td>\n",
       "      <td>0.0</td>\n",
       "      <td>3.0</td>\n",
       "      <td>51.86250</td>\n",
       "      <td>1.0</td>\n",
       "    </tr>\n",
       "    <tr>\n",
       "      <th>7</th>\n",
       "      <td>8.0</td>\n",
       "      <td>0.0</td>\n",
       "      <td>3.0</td>\n",
       "      <td>1.0</td>\n",
       "      <td>2.0</td>\n",
       "      <td>349909.0</td>\n",
       "      <td>21.0750</td>\n",
       "      <td>7.0</td>\n",
       "      <td>2.0</td>\n",
       "      <td>3.0</td>\n",
       "      <td>1.0</td>\n",
       "      <td>5.0</td>\n",
       "      <td>1.0</td>\n",
       "      <td>4.0</td>\n",
       "      <td>2.0</td>\n",
       "      <td>4.21500</td>\n",
       "      <td>1.0</td>\n",
       "    </tr>\n",
       "    <tr>\n",
       "      <th>8</th>\n",
       "      <td>9.0</td>\n",
       "      <td>1.0</td>\n",
       "      <td>3.0</td>\n",
       "      <td>0.0</td>\n",
       "      <td>27.0</td>\n",
       "      <td>347742.0</td>\n",
       "      <td>11.1333</td>\n",
       "      <td>7.0</td>\n",
       "      <td>2.0</td>\n",
       "      <td>6.0</td>\n",
       "      <td>2.0</td>\n",
       "      <td>5.0</td>\n",
       "      <td>1.0</td>\n",
       "      <td>2.0</td>\n",
       "      <td>1.0</td>\n",
       "      <td>3.71110</td>\n",
       "      <td>1.0</td>\n",
       "    </tr>\n",
       "    <tr>\n",
       "      <th>9</th>\n",
       "      <td>10.0</td>\n",
       "      <td>1.0</td>\n",
       "      <td>2.0</td>\n",
       "      <td>0.0</td>\n",
       "      <td>14.0</td>\n",
       "      <td>237736.0</td>\n",
       "      <td>30.0708</td>\n",
       "      <td>7.0</td>\n",
       "      <td>0.0</td>\n",
       "      <td>6.0</td>\n",
       "      <td>1.0</td>\n",
       "      <td>4.0</td>\n",
       "      <td>1.0</td>\n",
       "      <td>1.0</td>\n",
       "      <td>2.0</td>\n",
       "      <td>15.03540</td>\n",
       "      <td>1.0</td>\n",
       "    </tr>\n",
       "  </tbody>\n",
       "</table>\n",
       "</div>"
      ],
      "text/plain": [
       "   PassengerId  Survived  Pclass  Sex   Age    Ticket     Fare  Cabin  \\\n",
       "0          1.0       0.0     3.0  1.0  22.0       5.0   7.2500    7.0   \n",
       "1          2.0       1.0     1.0  0.0  38.0   17599.0  71.2833    2.0   \n",
       "2          3.0       1.0     3.0  0.0  26.0       2.0   7.9250    7.0   \n",
       "3          4.0       1.0     1.0  0.0  35.0  113803.0  53.1000    2.0   \n",
       "4          5.0       0.0     3.0  1.0  35.0  373450.0   8.0500    7.0   \n",
       "5          6.0       0.0     3.0  1.0  27.0  330877.0   8.4583    7.0   \n",
       "6          7.0       0.0     1.0  1.0  54.0   17463.0  51.8625    4.0   \n",
       "7          8.0       0.0     3.0  1.0   2.0  349909.0  21.0750    7.0   \n",
       "8          9.0       1.0     3.0  0.0  27.0  347742.0  11.1333    7.0   \n",
       "9         10.0       1.0     2.0  0.0  14.0  237736.0  30.0708    7.0   \n",
       "\n",
       "   Embarked  Title  Age group  Ticket group  Accompanied  Companions  \\\n",
       "0       2.0    5.0        2.0           1.0          1.0         1.0   \n",
       "1       0.0    6.0        3.0           2.0          1.0         1.0   \n",
       "2       2.0    4.0        2.0           1.0          0.0         0.0   \n",
       "3       2.0    6.0        3.0           4.0          1.0         1.0   \n",
       "4       2.0    5.0        3.0           5.0          0.0         0.0   \n",
       "5       1.0    5.0        2.0           5.0          0.0         0.0   \n",
       "6       2.0    5.0        3.0           2.0          0.0         0.0   \n",
       "7       2.0    3.0        1.0           5.0          1.0         4.0   \n",
       "8       2.0    6.0        2.0           5.0          1.0         2.0   \n",
       "9       0.0    6.0        1.0           4.0          1.0         1.0   \n",
       "\n",
       "   Fare group  FarePerPs  Age_data  \n",
       "0         1.0    3.62500       1.0  \n",
       "1         3.0   35.64165       1.0  \n",
       "2         1.0    7.92500       1.0  \n",
       "3         3.0   26.55000       1.0  \n",
       "4         1.0    8.05000       1.0  \n",
       "5         1.0    8.45830       0.0  \n",
       "6         3.0   51.86250       1.0  \n",
       "7         2.0    4.21500       1.0  \n",
       "8         1.0    3.71110       1.0  \n",
       "9         2.0   15.03540       1.0  "
      ]
     },
     "execution_count": 8,
     "metadata": {},
     "output_type": "execute_result"
    }
   ],
   "source": [
    "# Read clean dataset\n",
    "# Load clean dataframe resulting from the 'Titanic - Data Engineering.ipynb' file\n",
    "df_train_clean = pd.read_csv(os.getcwd() + '\\Clean_Titanic_train_dataframe.csv', na_values=\"?\")\n",
    "df_train_clean.head(10)"
   ]
  },
  {
   "cell_type": "code",
   "execution_count": 9,
   "metadata": {},
   "outputs": [],
   "source": [
    "# Segregate target from features \n",
    "X = df_train_clean.drop(['PassengerId','Survived'], axis=1).copy()\n",
    "y = df_train_clean['Survived'].copy()"
   ]
  },
  {
   "cell_type": "code",
   "execution_count": 10,
   "metadata": {},
   "outputs": [],
   "source": [
    "# Normalise data\n",
    "def NormaliseInputData(X):\n",
    "    min_max_scaler = preprocessing.MinMaxScaler()\n",
    "    return min_max_scaler.fit_transform(X)\n",
    "\n",
    "X = NormaliseInputData(X)"
   ]
  },
  {
   "cell_type": "code",
   "execution_count": 11,
   "metadata": {},
   "outputs": [],
   "source": [
    "# Evaluation function\n",
    "def evaluate_model(model, X, y):\n",
    "    cv = RepeatedStratifiedKFold(n_splits=10, n_repeats=3, random_state=1)\n",
    "    scores = cross_val_score(model, X, y, scoring='accuracy', cv=cv, n_jobs=-1, error_score='raise')\n",
    "    return scores"
   ]
  },
  {
   "cell_type": "code",
   "execution_count": 12,
   "metadata": {},
   "outputs": [
    {
     "data": {
      "image/png": "[encoded data removed]",
      "text/plain": [
       "<Figure size 432x288 with 1 Axes>"
      ]
     },
     "metadata": {
      "needs_background": "light"
     },
     "output_type": "display_data"
    },
    {
     "data": {
      "text/plain": [
       "0.0    61.616162\n",
       "1.0    38.383838\n",
       "Name: Survived, dtype: float64"
      ]
     },
     "execution_count": 12,
     "metadata": {},
     "output_type": "execute_result"
    }
   ],
   "source": [
    "# Look at class balance\n",
    "unique, counts = np.unique(y, return_counts=True)\n",
    "\n",
    "plt.bar(unique,counts)\n",
    "plt.title('Class Frequency')\n",
    "plt.xlabel('Survived')\n",
    "plt.ylabel('Frequency')\n",
    "plt.xticks([0,1],['No','Yes'])\n",
    "plt.show()\n",
    "\n",
    "100*y.value_counts()/len(y)"
   ]
  },
  {
   "cell_type": "code",
   "execution_count": 13,
   "metadata": {},
   "outputs": [
    {
     "data": {
      "image/png": "[encoded data removed]",
      "text/plain": [
       "<Figure size 432x288 with 1 Axes>"
      ]
     },
     "metadata": {
      "needs_background": "light"
     },
     "output_type": "display_data"
    },
    {
     "data": {
      "image/png": "[encoded data removed]",
      "text/plain": [
       "<Figure size 432x288 with 1 Axes>"
      ]
     },
     "metadata": {
      "needs_background": "light"
     },
     "output_type": "display_data"
    },
    {
     "data": {
      "image/png": "[encoded data removed]",
      "text/plain": [
       "<Figure size 432x288 with 1 Axes>"
      ]
     },
     "metadata": {
      "needs_background": "light"
     },
     "output_type": "display_data"
    },
    {
     "data": {
      "image/png": "[encoded data removed]",
      "text/plain": [
       "<Figure size 432x288 with 1 Axes>"
      ]
     },
     "metadata": {
      "needs_background": "light"
     },
     "output_type": "display_data"
    },
    {
     "data": {
      "image/png": "[encoded data removed]",
      "text/plain": [
       "<Figure size 432x288 with 1 Axes>"
      ]
     },
     "metadata": {
      "needs_background": "light"
     },
     "output_type": "display_data"
    }
   ],
   "source": [
    "# Import Re-sampling libraries and functions\n",
    "import imblearn\n",
    "from imblearn.under_sampling import RandomUnderSampler\n",
    "from imblearn.under_sampling import TomekLinks\n",
    "from imblearn.under_sampling import ClusterCentroids\n",
    "from imblearn.over_sampling import RandomOverSampler\n",
    "from imblearn.over_sampling import SMOTE\n",
    "from imblearn.combine import SMOTETomek\n",
    "\n",
    "# Get a list of models to evaluate\n",
    "def get_models():\n",
    "    models = dict()\n",
    "    models['lr'] = LogisticRegression()\n",
    "    models['knn'] = KNeighborsClassifier()\n",
    "    models['cart'] = DecisionTreeClassifier()\n",
    "    models['svm'] = SVC()\n",
    "    models['bayes'] = GaussianNB()\n",
    "    return models\n",
    "\n",
    "# Get a list of sampling methods\n",
    "def get_sampling_methods():\n",
    "    sampling_method = dict()\n",
    "    sampling_method['rus'] = RandomUnderSampler(return_indices=True)\n",
    "    sampling_method['tl'] = TomekLinks(return_indices=True, ratio='majority')\n",
    "    sampling_method['cc'] = ClusterCentroids(ratio={0: y.value_counts()[1]})\n",
    "    sampling_method['ros'] = RandomOverSampler(return_indices=True)\n",
    "    sampling_method['smote'] = SMOTE(ratio='minority')\n",
    "    sampling_method['smt'] = SMOTETomek(ratio='auto')\n",
    "    return sampling_method\n",
    "\n",
    "# Plot model performance in boxplots showing the distribution of results given by the different data folds\n",
    "def showboxplot(results, names, model_name):\n",
    "    plt.boxplot(results, labels=names, showmeans=True)\n",
    "    plt.ylim(0.5,1)\n",
    "    plt.ylabel('AUC')\n",
    "    plt.xlabel('Sampling method')\n",
    "    plt.title(model_name)\n",
    "    plt.grid()\n",
    "    plt.show()\n",
    "\n",
    "# Evaluate each model and the effect of a re-sampling method    \n",
    "def evaluate_sampling_method_effect(model, model_name):\n",
    "    # Evaluate model with no sampling\n",
    "    results, names = list(), list()\n",
    "    results.append(evaluate_model(model, X, y))\n",
    "    names.append('ns')\n",
    "\n",
    "    sampling_method = get_sampling_methods()\n",
    "    \n",
    "    for name, method in sampling_method.items():\n",
    "        if name in ['rus','tl','ros']:\n",
    "            Xsp, ysp, idx = method.fit_sample(X, y)\n",
    "        else:\n",
    "            Xsp, ysp = method.fit_sample(X, y)        \n",
    "        results.append(evaluate_model(model, Xsp, ysp))\n",
    "        names.append(name)\n",
    "\n",
    "    showboxplot(results, names, model_name)\n",
    "\n",
    "# Test each model for each re-sampling method\n",
    "models = get_models()    \n",
    "for model_name, model in models.items():\n",
    "    evaluate_sampling_method_effect(model, model_name)    \n",
    "\n",
    "    \n",
    "import warnings\n",
    "warnings.simplefilter(action='ignore', category=FutureWarning)"
   ]
  },
  {
   "cell_type": "markdown",
   "metadata": {},
   "source": [
    "## Conclusions:\n",
    "* Several re-sampling methods have been used to provide a dataset with balanced classification\n",
    "* The metric AUC has been choosen to better represent the goodness of the models in both binary classes\n",
    "* The re-sampling methods have different effect depending on the ML model used\n",
    "* Two ML models have shown a significant improvement of AUC when re-samplin is applied, specially over-ssampling. These are the KNeighborsClassifier and the DecisionTreeClassifier. In both cases the best balancing solution has been SMOTETomek: Over-sampling followed by under-sampling"
   ]
  }
 ],
 "metadata": {
  "kernelspec": {
   "display_name": "Python 3",
   "language": "python",
   "name": "python3"
  },
  "language_info": {
   "codemirror_mode": {
    "name": "ipython",
    "version": 3
   },
   "file_extension": ".py",
   "mimetype": "text/x-python",
   "name": "python",
   "nbconvert_exporter": "python",
   "pygments_lexer": "ipython3",
   "version": "3.7.3"
  }
 },
 "nbformat": 4,
 "nbformat_minor": 2
}
