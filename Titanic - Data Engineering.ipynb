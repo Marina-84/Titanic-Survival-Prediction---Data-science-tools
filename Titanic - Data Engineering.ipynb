{
 "cells": [
  {
   "cell_type": "markdown",
   "metadata": {},
   "source": [
    "# Titanic - Data Egineering\n",
    "\n",
    "This notebook details the pre-processing applied to the Titanic training data before  it is used to try to predict the survival of the Titanic passengers based on some personal and travelling details.\n",
    "\n",
    "In the following the the next areas will be covered:\n",
    "* Retriving data and looking at data information\n",
    "* Features analysis and selection\n",
    "* Dealing with missing values\n",
    "* Creating new features\n",
    "* Categorical variable encoding\n",
    "* Saving pre-processed dataset"
   ]
  },
  {
   "cell_type": "markdown",
   "metadata": {},
   "source": [
    "## Data retrieval and info"
   ]
  },
  {
   "cell_type": "code",
   "execution_count": 5,
   "metadata": {},
   "outputs": [],
   "source": [
    "# Import required packages\n",
    "import os\n",
    "import pandas as pd\n",
    "import numpy as np\n",
    "import matplotlib.pyplot as plt\n",
    "import seaborn as sns\n",
    "from sklearn.preprocessing import LabelEncoder"
   ]
  },
  {
   "cell_type": "code",
   "execution_count": 6,
   "metadata": {},
   "outputs": [],
   "source": [
    "# Read Titanic training data as a pandas dataframe\n",
    "# Training Data\n",
    "df_train = pd.read_csv(os.getcwd() + '/train.csv', na_values=\"?\")\n",
    "\n"
   ]
  },
  {
   "cell_type": "markdown",
   "metadata": {},
   "source": [
    "Now we take a quick look:"
   ]
  },
  {
   "cell_type": "code",
   "execution_count": 7,
   "metadata": {},
   "outputs": [
    {
     "data": {
      "text/html": [
       "<div>\n",
       "<style scoped>\n",
       "    .dataframe tbody tr th:only-of-type {\n",
       "        vertical-align: middle;\n",
       "    }\n",
       "\n",
       "    .dataframe tbody tr th {\n",
       "        vertical-align: top;\n",
       "    }\n",
       "\n",
       "    .dataframe thead th {\n",
       "        text-align: right;\n",
       "    }\n",
       "</style>\n",
       "<table border=\"1\" class=\"dataframe\">\n",
       "  <thead>\n",
       "    <tr style=\"text-align: right;\">\n",
       "      <th></th>\n",
       "      <th>PassengerId</th>\n",
       "      <th>Survived</th>\n",
       "      <th>Pclass</th>\n",
       "      <th>Name</th>\n",
       "      <th>Sex</th>\n",
       "      <th>Age</th>\n",
       "      <th>SibSp</th>\n",
       "      <th>Parch</th>\n",
       "      <th>Ticket</th>\n",
       "      <th>Fare</th>\n",
       "      <th>Cabin</th>\n",
       "      <th>Embarked</th>\n",
       "    </tr>\n",
       "  </thead>\n",
       "  <tbody>\n",
       "    <tr>\n",
       "      <th>0</th>\n",
       "      <td>1</td>\n",
       "      <td>0</td>\n",
       "      <td>3</td>\n",
       "      <td>Braund, Mr. Owen Harris</td>\n",
       "      <td>male</td>\n",
       "      <td>22.0</td>\n",
       "      <td>1</td>\n",
       "      <td>0</td>\n",
       "      <td>A/5 21171</td>\n",
       "      <td>7.2500</td>\n",
       "      <td>NaN</td>\n",
       "      <td>S</td>\n",
       "    </tr>\n",
       "    <tr>\n",
       "      <th>1</th>\n",
       "      <td>2</td>\n",
       "      <td>1</td>\n",
       "      <td>1</td>\n",
       "      <td>Cumings, Mrs. John Bradley (Florence Briggs Th...</td>\n",
       "      <td>female</td>\n",
       "      <td>38.0</td>\n",
       "      <td>1</td>\n",
       "      <td>0</td>\n",
       "      <td>PC 17599</td>\n",
       "      <td>71.2833</td>\n",
       "      <td>C85</td>\n",
       "      <td>C</td>\n",
       "    </tr>\n",
       "    <tr>\n",
       "      <th>2</th>\n",
       "      <td>3</td>\n",
       "      <td>1</td>\n",
       "      <td>3</td>\n",
       "      <td>Heikkinen, Miss. Laina</td>\n",
       "      <td>female</td>\n",
       "      <td>26.0</td>\n",
       "      <td>0</td>\n",
       "      <td>0</td>\n",
       "      <td>STON/O2. 3101282</td>\n",
       "      <td>7.9250</td>\n",
       "      <td>NaN</td>\n",
       "      <td>S</td>\n",
       "    </tr>\n",
       "    <tr>\n",
       "      <th>3</th>\n",
       "      <td>4</td>\n",
       "      <td>1</td>\n",
       "      <td>1</td>\n",
       "      <td>Futrelle, Mrs. Jacques Heath (Lily May Peel)</td>\n",
       "      <td>female</td>\n",
       "      <td>35.0</td>\n",
       "      <td>1</td>\n",
       "      <td>0</td>\n",
       "      <td>113803</td>\n",
       "      <td>53.1000</td>\n",
       "      <td>C123</td>\n",
       "      <td>S</td>\n",
       "    </tr>\n",
       "    <tr>\n",
       "      <th>4</th>\n",
       "      <td>5</td>\n",
       "      <td>0</td>\n",
       "      <td>3</td>\n",
       "      <td>Allen, Mr. William Henry</td>\n",
       "      <td>male</td>\n",
       "      <td>35.0</td>\n",
       "      <td>0</td>\n",
       "      <td>0</td>\n",
       "      <td>373450</td>\n",
       "      <td>8.0500</td>\n",
       "      <td>NaN</td>\n",
       "      <td>S</td>\n",
       "    </tr>\n",
       "    <tr>\n",
       "      <th>5</th>\n",
       "      <td>6</td>\n",
       "      <td>0</td>\n",
       "      <td>3</td>\n",
       "      <td>Moran, Mr. James</td>\n",
       "      <td>male</td>\n",
       "      <td>NaN</td>\n",
       "      <td>0</td>\n",
       "      <td>0</td>\n",
       "      <td>330877</td>\n",
       "      <td>8.4583</td>\n",
       "      <td>NaN</td>\n",
       "      <td>Q</td>\n",
       "    </tr>\n",
       "    <tr>\n",
       "      <th>6</th>\n",
       "      <td>7</td>\n",
       "      <td>0</td>\n",
       "      <td>1</td>\n",
       "      <td>McCarthy, Mr. Timothy J</td>\n",
       "      <td>male</td>\n",
       "      <td>54.0</td>\n",
       "      <td>0</td>\n",
       "      <td>0</td>\n",
       "      <td>17463</td>\n",
       "      <td>51.8625</td>\n",
       "      <td>E46</td>\n",
       "      <td>S</td>\n",
       "    </tr>\n",
       "    <tr>\n",
       "      <th>7</th>\n",
       "      <td>8</td>\n",
       "      <td>0</td>\n",
       "      <td>3</td>\n",
       "      <td>Palsson, Master. Gosta Leonard</td>\n",
       "      <td>male</td>\n",
       "      <td>2.0</td>\n",
       "      <td>3</td>\n",
       "      <td>1</td>\n",
       "      <td>349909</td>\n",
       "      <td>21.0750</td>\n",
       "      <td>NaN</td>\n",
       "      <td>S</td>\n",
       "    </tr>\n",
       "    <tr>\n",
       "      <th>8</th>\n",
       "      <td>9</td>\n",
       "      <td>1</td>\n",
       "      <td>3</td>\n",
       "      <td>Johnson, Mrs. Oscar W (Elisabeth Vilhelmina Berg)</td>\n",
       "      <td>female</td>\n",
       "      <td>27.0</td>\n",
       "      <td>0</td>\n",
       "      <td>2</td>\n",
       "      <td>347742</td>\n",
       "      <td>11.1333</td>\n",
       "      <td>NaN</td>\n",
       "      <td>S</td>\n",
       "    </tr>\n",
       "    <tr>\n",
       "      <th>9</th>\n",
       "      <td>10</td>\n",
       "      <td>1</td>\n",
       "      <td>2</td>\n",
       "      <td>Nasser, Mrs. Nicholas (Adele Achem)</td>\n",
       "      <td>female</td>\n",
       "      <td>14.0</td>\n",
       "      <td>1</td>\n",
       "      <td>0</td>\n",
       "      <td>237736</td>\n",
       "      <td>30.0708</td>\n",
       "      <td>NaN</td>\n",
       "      <td>C</td>\n",
       "    </tr>\n",
       "  </tbody>\n",
       "</table>\n",
       "</div>"
      ],
      "text/plain": [
       "   PassengerId  Survived  Pclass  \\\n",
       "0            1         0       3   \n",
       "1            2         1       1   \n",
       "2            3         1       3   \n",
       "3            4         1       1   \n",
       "4            5         0       3   \n",
       "5            6         0       3   \n",
       "6            7         0       1   \n",
       "7            8         0       3   \n",
       "8            9         1       3   \n",
       "9           10         1       2   \n",
       "\n",
       "                                                Name     Sex   Age  SibSp  \\\n",
       "0                            Braund, Mr. Owen Harris    male  22.0      1   \n",
       "1  Cumings, Mrs. John Bradley (Florence Briggs Th...  female  38.0      1   \n",
       "2                             Heikkinen, Miss. Laina  female  26.0      0   \n",
       "3       Futrelle, Mrs. Jacques Heath (Lily May Peel)  female  35.0      1   \n",
       "4                           Allen, Mr. William Henry    male  35.0      0   \n",
       "5                                   Moran, Mr. James    male   NaN      0   \n",
       "6                            McCarthy, Mr. Timothy J    male  54.0      0   \n",
       "7                     Palsson, Master. Gosta Leonard    male   2.0      3   \n",
       "8  Johnson, Mrs. Oscar W (Elisabeth Vilhelmina Berg)  female  27.0      0   \n",
       "9                Nasser, Mrs. Nicholas (Adele Achem)  female  14.0      1   \n",
       "\n",
       "   Parch            Ticket     Fare Cabin Embarked  \n",
       "0      0         A/5 21171   7.2500   NaN        S  \n",
       "1      0          PC 17599  71.2833   C85        C  \n",
       "2      0  STON/O2. 3101282   7.9250   NaN        S  \n",
       "3      0            113803  53.1000  C123        S  \n",
       "4      0            373450   8.0500   NaN        S  \n",
       "5      0            330877   8.4583   NaN        Q  \n",
       "6      0             17463  51.8625   E46        S  \n",
       "7      1            349909  21.0750   NaN        S  \n",
       "8      2            347742  11.1333   NaN        S  \n",
       "9      0            237736  30.0708   NaN        C  "
      ]
     },
     "execution_count": 7,
     "metadata": {},
     "output_type": "execute_result"
    }
   ],
   "source": [
    "df_train.head(10)"
   ]
  },
  {
   "cell_type": "markdown",
   "metadata": {},
   "source": [
    "We can see that each passengers' id is provided together with the survival classification and a set of features for predicting the survival. According to the Kaggle's competition, here is a summary of the meaning of the variables:\n",
    "* Pclass: passengers' travelling class\n",
    "* Name: passengers' name\n",
    "* Sex: passengers' gender\n",
    "* Age: passengers' age (when value are defined with half a year this specifies that the value has been estimated)\n",
    "* SibSp: number of sibilings or spouse the passengers are travelling with\n",
    "* Parch: number of parents of childer the passengers are travelling with\n",
    "* Ticket: ticket number of the passengers\n",
    "* Fare: passengers' fare\n",
    "* Cabin: Cabin number\n",
    "* Embarked: Port of embarkation\n",
    "(See: https://www.kaggle.com/c/titanic/data)\n",
    "\n",
    "Next, a summary of the dataset info is display, showing the features' data types and amount of non-nan (or non-null) values in each feature"
   ]
  },
  {
   "cell_type": "code",
   "execution_count": 8,
   "metadata": {},
   "outputs": [
    {
     "name": "stdout",
     "output_type": "stream",
     "text": [
      "<class 'pandas.core.frame.DataFrame'>\n",
      "RangeIndex: 891 entries, 0 to 890\n",
      "Data columns (total 12 columns):\n",
      "PassengerId    891 non-null int64\n",
      "Survived       891 non-null int64\n",
      "Pclass         891 non-null int64\n",
      "Name           891 non-null object\n",
      "Sex            891 non-null object\n",
      "Age            714 non-null float64\n",
      "SibSp          891 non-null int64\n",
      "Parch          891 non-null int64\n",
      "Ticket         891 non-null object\n",
      "Fare           891 non-null float64\n",
      "Cabin          204 non-null object\n",
      "Embarked       889 non-null object\n",
      "dtypes: float64(2), int64(5), object(5)\n",
      "memory usage: 83.6+ KB\n"
     ]
    }
   ],
   "source": [
    "df_train.info()"
   ]
  },
  {
   "cell_type": "markdown",
   "metadata": {},
   "source": [
    "Here are some observations:\n",
    "* There are three features presenting missing values: 'Embarked', 'Age' and 'Cabin'. A strategy of dealing with missing values will be defined in following sections\n",
    "* Some of the variables are categorical; they need to be converted to numerical to be interpreted by a ML algorithm\n",
    "\n",
    "In the following section, the features will be analysed more in detail before dealing with missing data and feature encoding."
   ]
  },
  {
   "cell_type": "markdown",
   "metadata": {},
   "source": [
    "## Data analysis and feature selection\n",
    "\n",
    "We will display the correlation matrix first to get a feel of the possible relation of th efeatures with the survival classification and potential correlation between the variables as well."
   ]
  },
  {
   "cell_type": "code",
   "execution_count": 9,
   "metadata": {},
   "outputs": [
    {
     "data": {
      "image/png": "[encoded data removed]",
      "text/plain": [
       "<Figure size 432x288 with 2 Axes>"
      ]
     },
     "metadata": {
      "needs_background": "light"
     },
     "output_type": "display_data"
    }
   ],
   "source": [
    "# Copying the training dataset before manipulation of the data\n",
    "df = df_train.copy()\n",
    "\n",
    "# Correlation matrix plot\n",
    "features = df.columns[1:]\n",
    "corrMatrix = df[features].corr()\n",
    "sns.heatmap(abs(corrMatrix), annot=True)\n",
    "plt.show()"
   ]
  },
  {
   "cell_type": "markdown",
   "metadata": {},
   "source": [
    "There is no obvious correlation between the survival classification and the features; the highest correlation is given by 'Pclass'. 'Pclass' is also showing some sort of relationship with 'Fare', wich makes sense: travelling in a higher class should have been more expensive. \n",
    "\n",
    "In the following the relevance of each feature will be analysed.\n",
    "\n",
    "### Pclass\n",
    "\n",
    "The next graph shows the effect of 'Pclass' on survival. The percentage of passengers in 1st class who survived is higher than those who died. On the other hand, the percentage of passengers in 3rd class who died is significantly higher than that of those in the same class who lived. The percentage of passengers in 2nd class is small with barely any differences in survival."
   ]
  },
  {
   "cell_type": "code",
   "execution_count": 10,
   "metadata": {},
   "outputs": [
    {
     "data": {
      "image/png": "[encoded data removed]",
      "text/plain": [
       "<Figure size 432x288 with 1 Axes>"
      ]
     },
     "metadata": {
      "needs_background": "light"
     },
     "output_type": "display_data"
    }
   ],
   "source": [
    "# Pclass feature relevance on survival\n",
    "plt.plot(df['Pclass'].loc[df['Survived']==1].value_counts(sort=False)/len(df) * 100,'o-',label='Lived')\n",
    "plt.plot(df['Pclass'].loc[df['Survived']==0].value_counts(sort=False)/len(df) * 100,'o-',label='Died')\n",
    "plt.xticks([1,2,3])\n",
    "plt.xlabel('Pclass')\n",
    "plt.ylabel('Percentage of passengers (%)')\n",
    "plt.legend()\n",
    "plt.show()"
   ]
  },
  {
   "cell_type": "markdown",
   "metadata": {},
   "source": [
    "### Sex\n",
    "\n",
    "Similarly, the following graph shows how gender had an impact on survival: the percentage of male passengers who died is significantly higher than of those who lived; however, there was a greater number of women who survived."
   ]
  },
  {
   "cell_type": "code",
   "execution_count": 11,
   "metadata": {},
   "outputs": [
    {
     "data": {
      "image/png": "[encoded data removed]",
      "text/plain": [
       "<Figure size 432x288 with 1 Axes>"
      ]
     },
     "metadata": {
      "needs_background": "light"
     },
     "output_type": "display_data"
    }
   ],
   "source": [
    "# Sex feature relevance on survival\n",
    "plt.plot(df['Sex'].loc[df['Survived']==1].value_counts()/len(df) * 100,'o-',label='Lived')\n",
    "plt.plot(df['Sex'].loc[df['Survived']==0].value_counts()/len(df) * 100,'o-',label='Died')\n",
    "plt.xticks(['female','male'])\n",
    "plt.xlabel('Sex')\n",
    "plt.ylabel('Percentage of passengers (%)')\n",
    "plt.legend()\n",
    "plt.show()"
   ]
  },
  {
   "cell_type": "markdown",
   "metadata": {},
   "source": [
    "### Age\n",
    "The histograms below show that more children survived than not. Also, there is significantly more passengers from about 16 and 32 years old who died.  "
   ]
  },
  {
   "cell_type": "code",
   "execution_count": 12,
   "metadata": {},
   "outputs": [
    {
     "name": "stderr",
     "output_type": "stream",
     "text": [
      "C:\\Users\\Marina\\Anaconda3\\lib\\site-packages\\numpy\\lib\\histograms.py:824: RuntimeWarning: invalid value encountered in greater_equal\n",
      "  keep = (tmp_a >= first_edge)\n",
      "C:\\Users\\Marina\\Anaconda3\\lib\\site-packages\\numpy\\lib\\histograms.py:825: RuntimeWarning: invalid value encountered in less_equal\n",
      "  keep &= (tmp_a <= last_edge)\n"
     ]
    },
    {
     "data": {
      "image/png": "[encoded data removed]",
      "text/plain": [
       "<Figure size 432x288 with 1 Axes>"
      ]
     },
     "metadata": {
      "needs_background": "light"
     },
     "output_type": "display_data"
    }
   ],
   "source": [
    "plt.hist(df['Age'].loc[df['Survived']==1], alpha=0.5, label='Lived', bins=40)\n",
    "plt.hist(df['Age'].loc[df['Survived']==0], alpha=0.5, label='Died', bins=40)\n",
    "plt.legend()\n",
    "plt.show()"
   ]
  },
  {
   "cell_type": "markdown",
   "metadata": {},
   "source": [
    "### SibSp\n",
    "\n",
    "The next graph shows that a greater number of people travelling with no sibling + spouse died.\n",
    "The amount of passengers dying or surviving with a number of siblings + spouse from 1 to 4 is the same.\n",
    "Finally, all passengers with siblings + spouse higher than 4 died."
   ]
  },
  {
   "cell_type": "code",
   "execution_count": 13,
   "metadata": {},
   "outputs": [
    {
     "data": {
      "image/png": "[encoded data removed]",
      "text/plain": [
       "<Figure size 432x288 with 1 Axes>"
      ]
     },
     "metadata": {
      "needs_background": "light"
     },
     "output_type": "display_data"
    }
   ],
   "source": [
    "# SibSP feature relevance on survival\n",
    "plt.plot(df['SibSp'].loc[df['Survived']==1].value_counts(sort=False)/len(df) * 100,'o-',label='Lived')\n",
    "plt.plot(df['SibSp'].loc[df['Survived']==0].value_counts(sort=False)/len(df) * 100,'o-',label='Died')\n",
    "plt.xlabel('SibSp')\n",
    "plt.ylabel('Percentage of passengers (%)')\n",
    "plt.legend()\n",
    "plt.show()"
   ]
  },
  {
   "cell_type": "markdown",
   "metadata": {},
   "source": [
    "### Parch\n",
    "Similarly to 'SibSP', the main difference in survival appears for passengers travelling with no parents or children."
   ]
  },
  {
   "cell_type": "code",
   "execution_count": 14,
   "metadata": {},
   "outputs": [
    {
     "data": {
      "image/png": "[encoded data removed]",
      "text/plain": [
       "<Figure size 432x288 with 1 Axes>"
      ]
     },
     "metadata": {
      "needs_background": "light"
     },
     "output_type": "display_data"
    }
   ],
   "source": [
    "# SibSP feature relevance on survival\n",
    "plt.plot(df['Parch'].loc[df['Survived']==1].value_counts(sort=False)/len(df) * 100,'o-',label='Lived')\n",
    "plt.plot(df['Parch'].loc[df['Survived']==0].value_counts(sort=False)/len(df) * 100,'o-',label='Died')\n",
    "plt.xlabel('Parch')\n",
    "plt.ylabel('Percentage of passengers (%)')\n",
    "plt.legend()\n",
    "plt.show()"
   ]
  },
  {
   "cell_type": "markdown",
   "metadata": {},
   "source": [
    "### Fare\n",
    "\n",
    "As seen in the 'Pclass' feature, a greater number of passengers who paid a lower fare died. On the other hand, those who paid more expensive tickets lived. "
   ]
  },
  {
   "cell_type": "code",
   "execution_count": 15,
   "metadata": {},
   "outputs": [
    {
     "data": {
      "image/png": "[encoded data removed]",
      "text/plain": [
       "<Figure size 864x468 with 1 Axes>"
      ]
     },
     "metadata": {
      "needs_background": "light"
     },
     "output_type": "display_data"
    }
   ],
   "source": [
    "plt.figure(figsize=(12, 6.5))\n",
    "plt.hist(df['Fare'].loc[df['Survived']==1], alpha=0.5, label='Lived', bins=50)\n",
    "plt.hist(df['Fare'].loc[df['Survived']==0], alpha=0.5, label='Died', bins=50)\n",
    "plt.legend()\n",
    "plt.show()"
   ]
  },
  {
   "cell_type": "markdown",
   "metadata": {},
   "source": [
    "### Name\n",
    "This feature needs to be processed before any analysis can be done.\n",
    "It is thought that the relevant information in this feature resides in the passengers title; thus, other name information is discarded. The uncommon titles are grouped.\n",
    "\n",
    "The graph comparing the survival percentage relative to the passengers' title shows similar information "
   ]
  },
  {
   "cell_type": "code",
   "execution_count": 16,
   "metadata": {},
   "outputs": [
    {
     "data": {
      "text/plain": [
       " Mr              517\n",
       " Miss            182\n",
       " Mrs             125\n",
       " Master           40\n",
       " Dr                7\n",
       " Rev               6\n",
       " Major             2\n",
       " Col               2\n",
       " Mlle              2\n",
       " the Countess      1\n",
       " Sir               1\n",
       " Ms                1\n",
       " Don               1\n",
       " Jonkheer          1\n",
       " Mme               1\n",
       " Capt              1\n",
       " Lady              1\n",
       "Name: Title, dtype: int64"
      ]
     },
     "execution_count": 16,
     "metadata": {},
     "output_type": "execute_result"
    }
   ],
   "source": [
    "# Keep only the names title; \n",
    "df['Title'] = df['Name'].str.split(',').str[1].str.split('.').str[0]\n",
    "df['Title'].value_counts()"
   ]
  },
  {
   "cell_type": "code",
   "execution_count": 17,
   "metadata": {},
   "outputs": [
    {
     "data": {
      "text/plain": [
       " Mr        517\n",
       " Miss      185\n",
       " Mrs       126\n",
       " Master     40\n",
       " Dr          7\n",
       " Rev         6\n",
       " Elite       5\n",
       " Rank        4\n",
       " Capt        1\n",
       "Name: Title, dtype: int64"
      ]
     },
     "execution_count": 17,
     "metadata": {},
     "output_type": "execute_result"
    }
   ],
   "source": [
    "# Group theh less common titles into the most common with the same meaning\n",
    "df['Title'] = df['Title'].str.replace('Mlle','Miss')\n",
    "df['Title'] = df['Title'].str.replace('Ms','Miss')\n",
    "df['Title'] = df['Title'].str.replace('Mme','Mrs')\n",
    "df['Title'] = df['Title'].str.replace('Col','Rank')\n",
    "df['Title'] = df['Title'].str.replace('Major','Rank')\n",
    "\n",
    "elite = ['Sir','Don','the Countess','Lady','Jonkheer']\n",
    "for title in elite:\n",
    "    df['Title'] = df['Title'].str.replace(title,'Elite')\n",
    "\n",
    "#other_titles = ['Dr','Rev','Major','Col','Sir','the Countess','Don','Capt','Lady','Jonkheer']\n",
    "#for title in other_titles:\n",
    " #   df['Name'] = df['Name'].str.replace(title,'Other')\n",
    "\n",
    "df['Title'].value_counts()"
   ]
  },
  {
   "cell_type": "code",
   "execution_count": 18,
   "metadata": {
    "scrolled": true
   },
   "outputs": [
    {
     "data": {
      "image/png": "[encoded data removed]",
      "text/plain": [
       "<Figure size 576x324 with 1 Axes>"
      ]
     },
     "metadata": {
      "needs_background": "light"
     },
     "output_type": "display_data"
    }
   ],
   "source": [
    "plt.figure(figsize=(8, 4.5))\n",
    "plt.plot(df['Title'].loc[df['Survived']==1].value_counts(sort=False)/len(df) * 100,'o',label='Lived')\n",
    "plt.plot(df['Title'].loc[df['Survived']==0].value_counts(sort=False)/len(df) * 100,'o',label='Died')\n",
    "plt.xlabel('Title')\n",
    "plt.ylabel('Percentage of passengers (%)')\n",
    "plt.legend()\n",
    "plt.show()"
   ]
  },
  {
   "cell_type": "markdown",
   "metadata": {},
   "source": [
    "When looking at Miss, Mrs and Mr the same gender differences observed when analysing the 'Sex' feature are shown. The number of passengers with other titles is so small that differences in the percentage are not appreciated. The next graph show the percentage within each category in 'Name'"
   ]
  },
  {
   "cell_type": "code",
   "execution_count": 19,
   "metadata": {},
   "outputs": [
    {
     "data": {
      "image/png": "[encoded data removed]",
      "text/plain": [
       "<Figure size 576x324 with 1 Axes>"
      ]
     },
     "metadata": {
      "needs_background": "light"
     },
     "output_type": "display_data"
    }
   ],
   "source": [
    "plt.figure(figsize=(8, 4.5))\n",
    "plt.plot(df['Title'].loc[df['Survived']==1].value_counts()/df['Title'].value_counts() * 100, 'o', label='lived')\n",
    "plt.plot(df['Title'].loc[df['Survived']==0].value_counts()/df['Title'].value_counts()* 100, 'o', label='died')\n",
    "plt.ylabel('Percentage in each category (%)')\n",
    "plt.show()"
   ]
  },
  {
   "cell_type": "markdown",
   "metadata": {},
   "source": [
    "Now we can see that the Captain and all the reverends died; therefore, although the groups are small, they are kept as separate categories."
   ]
  },
  {
   "cell_type": "markdown",
   "metadata": {},
   "source": [
    "### Cabin\n",
    "\n",
    "The percentages shown are very small due to the great amount of missing data.\n"
   ]
  },
  {
   "cell_type": "code",
   "execution_count": 20,
   "metadata": {},
   "outputs": [
    {
     "data": {
      "image/png": "[encoded data removed]",
      "text/plain": [
       "<Figure size 576x324 with 1 Axes>"
      ]
     },
     "metadata": {
      "needs_background": "light"
     },
     "output_type": "display_data"
    }
   ],
   "source": [
    "# Get letter of cabin\n",
    "df['Cabin'] = df['Cabin'].str.replace('[^a-zA-Z]', '').str[-1]\n",
    "df['Cabin'] = df['Cabin'].fillna('None')\n",
    "df['Cabin'].value_counts()\n",
    "\n",
    "plt.figure(figsize=(8, 4.5))\n",
    "plt.plot(df['Cabin'].loc[df['Survived']==1].value_counts()/len(df) * 100, 'o', label='lived')\n",
    "plt.plot(df['Cabin'].loc[df['Survived']==0].value_counts()/len(df) * 100, 'o', label='died')\n",
    "plt.ylabel('Percentage of passengers (%)')\n",
    "plt.legend()\n",
    "plt.show()"
   ]
  },
  {
   "cell_type": "markdown",
   "metadata": {},
   "source": [
    "### Embarked\n",
    "The main difference in survival is seen for the passengers embarking in S: Southampton.\n",
    "The majority of deaths correspond to passengers who embarked in this port;\n",
    "however, most of the passengers did embark here; therefore, it appears that the difference seen is only due to a greater number of passengers dying overall.\n",
    "Thus, this feature does not seem to bring any information about survival and could potentially be dropped."
   ]
  },
  {
   "cell_type": "code",
   "execution_count": 21,
   "metadata": {},
   "outputs": [
    {
     "data": {
      "image/png": "[encoded data removed]",
      "text/plain": [
       "<Figure size 432x288 with 1 Axes>"
      ]
     },
     "metadata": {
      "needs_background": "light"
     },
     "output_type": "display_data"
    }
   ],
   "source": [
    "plt.plot(df['Embarked'].loc[df['Survived']==1].value_counts(sort=False)/len(df) * 100,'o',label='Lived')\n",
    "plt.plot(df['Embarked'].loc[df['Survived']==0].value_counts(sort=False)/len(df) * 100,'o',label='Died')\n",
    "plt.xlabel('Embarked')\n",
    "plt.ylabel('Percentage of passengers (%)')\n",
    "plt.legend()\n",
    "plt.show()"
   ]
  },
  {
   "cell_type": "markdown",
   "metadata": {},
   "source": [
    "### Ticket\n",
    "If we focus only in the numerical part of the tickets and plot a histogram as show below, we can see that the numerical code is grouped around certain values:\n",
    "* There is one set of tickets numbered at around 3.000.000\n",
    "* If we take a closer look into the lower tickets numbering we can observe another four groups\n",
    "\n",
    "When we look at the histograms with a split regarding survival we see that there are different trends depending on the numbering data. The ticket data can be then grouped in a new variable."
   ]
  },
  {
   "cell_type": "code",
   "execution_count": 22,
   "metadata": {},
   "outputs": [
    {
     "data": {
      "text/plain": [
       "(1, 500000)"
      ]
     },
     "execution_count": 22,
     "metadata": {},
     "output_type": "execute_result"
    },
    {
     "data": {
      "image/png": "[encoded data removed]",
      "text/plain": [
       "<Figure size 1080x324 with 2 Axes>"
      ]
     },
     "metadata": {
      "needs_background": "light"
     },
     "output_type": "display_data"
    }
   ],
   "source": [
    "# Convert ticket feature to numerical values based on the numerical information only\n",
    "df['Ticket'] = df['Ticket'].str.extract('(\\d+)').fillna(0).astype('float')\n",
    "\n",
    "# Plot histogram to view numbering distribution\n",
    "f, (ax1, ax2) = plt.subplots(1, 2, sharey=True, figsize=(15,4.5))\n",
    "ax1.hist(np.array(df['Ticket']), bins=100)\n",
    "ax1.set_ylabel('Frequency #')\n",
    "ax1.set_xlabel('Ticket number')\n",
    "ax2.hist(np.array(df['Ticket']), bins=500)\n",
    "ax2.set_ylabel('Frequency #')\n",
    "ax2.set_xlabel('Ticket number')\n",
    "ax2.set_xlim(1,500000)"
   ]
  },
  {
   "cell_type": "code",
   "execution_count": 23,
   "metadata": {},
   "outputs": [
    {
     "data": {
      "text/plain": [
       "<matplotlib.legend.Legend at 0x248f5a93668>"
      ]
     },
     "execution_count": 23,
     "metadata": {},
     "output_type": "execute_result"
    },
    {
     "data": {
      "image/png": "[encoded data removed]",
      "text/plain": [
       "<Figure size 1296x288 with 3 Axes>"
      ]
     },
     "metadata": {
      "needs_background": "light"
     },
     "output_type": "display_data"
    }
   ],
   "source": [
    "# Histogram with survival split\n",
    "f, (ax1, ax2, ax3) = plt.subplots(1, 3, sharey=True, figsize=(18,4))\n",
    "\n",
    "ax1.hist(df['Ticket'].loc[df['Survived']==1], alpha=0.5, label='Lived', bins=1000)\n",
    "ax1.hist(df['Ticket'].loc[df['Survived']==0], alpha=0.5, label='Died', bins=1000)\n",
    "ax1.set_xlim(0,80000)\n",
    "ax1.set_ylabel('Frequency #')\n",
    "ax1.set_xlabel('Ticket number')\n",
    "\n",
    "ax2.hist(df['Ticket'].loc[df['Survived']==1], alpha=0.5, label='Lived', bins=500)\n",
    "ax2.hist(df['Ticket'].loc[df['Survived']==0], alpha=0.5, label='Died', bins=500)\n",
    "ax2.set_xlim(100000,400000)\n",
    "ax2.set_ylabel('Frequency #')\n",
    "ax2.set_xlabel('Ticket number')\n",
    "ax2.legend()\n",
    "\n",
    "ax3.hist(df['Ticket'].loc[df['Survived']==1], alpha=0.5, label='Lived', bins=500)\n",
    "ax3.hist(df['Ticket'].loc[df['Survived']==0], alpha=0.5, label='Died', bins=500)\n",
    "ax3.set_xlim(3000000,3500000)\n",
    "ax3.set_ylabel('Frequency #')\n",
    "ax3.set_xlabel('Ticket number')\n",
    "ax3.legend()\n"
   ]
  },
  {
   "cell_type": "markdown",
   "metadata": {},
   "source": [
    "### Features selection\n",
    "\n",
    "#### Variables to keep\n",
    "* 'Pclass'\n",
    "* 'Sex'\n",
    "* 'Age'\n",
    "* 'Name' transformed into 'Title'\n",
    "* 'Cabin'\n",
    "* 'Embarked' (consider dropping)\n",
    "* 'Ticket', keeping only the numerical data\n",
    "\n",
    "#### Features to create\n",
    "* From 'SibSp' and 'Parch' a new variable counting the total number of companions can be derived\n",
    "* Age groups divided by the observed relation of age and survival\n",
    "* Fare groups\n",
    "* Ticket groups\n",
    "\n",
    "#### Features to drop\n",
    "* 'SibSp' and 'Parch' would be redundant with the new variable created counting the total number of companions\n",
    "* Full names in feature 'Name'\n",
    "\n"
   ]
  },
  {
   "cell_type": "markdown",
   "metadata": {},
   "source": [
    "## Dealing with missing data"
   ]
  },
  {
   "cell_type": "markdown",
   "metadata": {},
   "source": [
    "As shown in the previous section, there are two remaining variables containing missing data:\n",
    "\n",
    "* Age: with nearly 20% of missing values. By intuition it seems that Age would be an important variable to consider, therefore the missing values would need to be replaced. The correlation of 'Age' with other variables will be analyse to try to replace missing values based on the values of those correlating variables\n",
    "    \n",
    "* Embarked: Very little missing values. This can~ be replaced by the most frequent value\n",
    "\n",
    "* 'Ticket': missing values have been replaced by 0, however, it would be more suitable to replace those by the most frequent ticket value, since only very few values are missing"
   ]
  },
  {
   "cell_type": "markdown",
   "metadata": {},
   "source": [
    "### Replace Age missing values"
   ]
  },
  {
   "cell_type": "markdown",
   "metadata": {},
   "source": [
    "To understand how we can fill in the missing values it is important to see what is the relationship between the feature and other variables. This could help us build new values of Age based on other features' values if a correlation does exist. "
   ]
  },
  {
   "cell_type": "code",
   "execution_count": 24,
   "metadata": {},
   "outputs": [
    {
     "data": {
      "image/png": "[encoded data removed]",
      "text/plain": [
       "<Figure size 432x288 with 2 Axes>"
      ]
     },
     "metadata": {
      "needs_background": "light"
     },
     "output_type": "display_data"
    }
   ],
   "source": [
    "# Correlation matrix\n",
    "import seaborn as sns\n",
    "\n",
    "features = df.columns[2:]\n",
    "corrMatrix = df[features].corr()\n",
    "sns.heatmap(abs(corrMatrix), annot=True)\n",
    "plt.show()"
   ]
  },
  {
   "cell_type": "markdown",
   "metadata": {},
   "source": [
    "The highest correlation of 'Age' is with 'Pclass'.\n",
    "‘Title’ might contain some age information as well.\n",
    "The relationship of age with this two variables is investigated further in the following:"
   ]
  },
  {
   "cell_type": "code",
   "execution_count": 25,
   "metadata": {},
   "outputs": [
    {
     "data": {
      "image/png": "[encoded data removed]",
      "text/plain": [
       "<Figure size 432x288 with 1 Axes>"
      ]
     },
     "metadata": {
      "needs_background": "light"
     },
     "output_type": "display_data"
    },
    {
     "data": {
      "image/png": "[encoded data removed]",
      "text/plain": [
       "<Figure size 432x288 with 1 Axes>"
      ]
     },
     "metadata": {
      "needs_background": "light"
     },
     "output_type": "display_data"
    },
    {
     "data": {
      "image/png": "[encoded data removed]",
      "text/plain": [
       "<Figure size 432x288 with 1 Axes>"
      ]
     },
     "metadata": {
      "needs_background": "light"
     },
     "output_type": "display_data"
    },
    {
     "data": {
      "image/png": "[encoded data removed]",
      "text/plain": [
       "<Figure size 432x288 with 1 Axes>"
      ]
     },
     "metadata": {
      "needs_background": "light"
     },
     "output_type": "display_data"
    }
   ],
   "source": [
    "# Title boxplots by Pclass\n",
    "sns.boxplot( y=pd.Categorical(df['Title']), x=df['Age'] )\n",
    "plt.ylabel('Title')\n",
    "plt.show()\n",
    "\n",
    "sns.boxplot( y=pd.Categorical(df['Pclass']), x=df['Age'] )\n",
    "plt.ylabel('Pclass')\n",
    "plt.show()\n",
    "\n",
    "# Age boxplots by SibSp comparing Pclass\n",
    "sns.boxplot(x='Title', y='Age',\n",
    "            hue='Pclass',#palette=[\"m\", \"g\"],\n",
    "            data=df)\n",
    "plt.grid()\n",
    "plt.show()\n",
    "\n",
    "# Age boxplots by SibSp comparing Pclass\n",
    "sns.boxplot(x='SibSp', y='Age',\n",
    "            hue='Pclass',#palette=[\"m\", \"g\"],\n",
    "            data=df)\n",
    "plt.grid()\n",
    "plt.show()"
   ]
  },
  {
   "cell_type": "markdown",
   "metadata": {},
   "source": [
    "There seem to be significant differences in the age range depending on the three features: 'Pclass', 'SibSp' and 'Title'.\n",
    "The missing values in 'Age' are replaced by the grouped median values from common values of 'Pclass', 'SibSp' and 'Title' "
   ]
  },
  {
   "cell_type": "code",
   "execution_count": 26,
   "metadata": {},
   "outputs": [
    {
     "name": "stdout",
     "output_type": "stream",
     "text": [
      "False    884\n",
      "True       7\n",
      "Name: Age, dtype: int64\n"
     ]
    }
   ],
   "source": [
    "df['Age'] = df['Age'].fillna(df.groupby([\"Pclass\", \"SibSp\",\"Title\"])['Age'].transform('median'))\n",
    "print(df['Age'].isna().value_counts())"
   ]
  },
  {
   "cell_type": "markdown",
   "metadata": {},
   "source": [
    "There are still a few missing values. The grouped median is printed next to check where:"
   ]
  },
  {
   "cell_type": "code",
   "execution_count": 27,
   "metadata": {},
   "outputs": [
    {
     "data": {
      "text/plain": [
       "Pclass  SibSp  Title  \n",
       "1       0       Dr        40.500\n",
       "                Elite     38.000\n",
       "                Master     4.000\n",
       "                Miss      30.000\n",
       "                Mr        40.000\n",
       "                Mrs       48.000\n",
       "                Rank      54.000\n",
       "        1       Capt      70.000\n",
       "                Elite     48.500\n",
       "                Master     5.960\n",
       "                Miss      32.000\n",
       "                Mr        38.000\n",
       "                Mrs       38.000\n",
       "        2       Dr        47.000\n",
       "                Miss      19.500\n",
       "                Mrs       53.000\n",
       "        3       Miss      23.500\n",
       "                Mr        19.000\n",
       "2       0       Dr        38.500\n",
       "                Master     0.915\n",
       "                Miss      27.000\n",
       "                Mr        30.000\n",
       "                Mrs       34.000\n",
       "                Rev       42.000\n",
       "        1       Master     2.500\n",
       "                Miss       5.000\n",
       "                Mr        32.250\n",
       "                Mrs       29.000\n",
       "                Rev       54.000\n",
       "        2       Master     1.000\n",
       "                Miss       4.000\n",
       "                Mr        23.500\n",
       "                Mrs       24.000\n",
       "        3       Mrs       30.000\n",
       "3       0       Master     6.000\n",
       "                Miss      21.000\n",
       "                Mr        27.000\n",
       "                Mrs       29.000\n",
       "        1       Master     4.000\n",
       "                Miss      14.500\n",
       "                Mr        25.500\n",
       "                Mrs       32.000\n",
       "        2       Miss       7.000\n",
       "                Mr        27.000\n",
       "        3       Master     4.000\n",
       "                Miss       5.500\n",
       "                Mrs       33.000\n",
       "        4       Master     4.000\n",
       "                Miss       7.500\n",
       "                Mr        15.000\n",
       "        5       Master     9.000\n",
       "                Miss      16.000\n",
       "                Mr        14.000\n",
       "        8       Master       NaN\n",
       "                Miss         NaN\n",
       "                Mr           NaN\n",
       "Name: Age, dtype: float64"
      ]
     },
     "execution_count": 27,
     "metadata": {},
     "output_type": "execute_result"
    }
   ],
   "source": [
    "df.groupby([\"Pclass\", \"SibSp\",\"Title\"])[\"Age\"].median()"
   ]
  },
  {
   "cell_type": "markdown",
   "metadata": {},
   "source": [
    "The missing values in 'SibSp' = 8 are replaced by the median of the grouped age values for 'SibSp'=5, in 'Pclass'=3 and depending on the 'Title':"
   ]
  },
  {
   "cell_type": "code",
   "execution_count": 28,
   "metadata": {},
   "outputs": [
    {
     "name": "stdout",
     "output_type": "stream",
     "text": [
      "False    891\n",
      "Name: Age, dtype: int64\n"
     ]
    }
   ],
   "source": [
    "titles = df['Title'].loc[(df['Pclass']==3) & (df['SibSp']==5)].value_counts().index\n",
    "for title in titles:\n",
    "    new_age = df['Age'].loc[(df['Pclass']==3) & (df['SibSp']==5) & (df['Title']==title)].median()\n",
    "    df.loc[np.isnan(df[\"Age\"]) & (df['Title']==title) , 'Age'] = new_age\n",
    "\n",
    "print(df['Age'].isna().value_counts())    "
   ]
  },
  {
   "cell_type": "markdown",
   "metadata": {},
   "source": [
    "### Replace Embarked missing values by most frequent value"
   ]
  },
  {
   "cell_type": "code",
   "execution_count": 29,
   "metadata": {},
   "outputs": [],
   "source": [
    "df['Embarked'] = df['Embarked'].fillna(df['Embarked'].value_counts().idxmax())"
   ]
  },
  {
   "cell_type": "markdown",
   "metadata": {},
   "source": [
    "### Replace Ticket missing values by most frequent value\n",
    "The missing values of the feature 'Ticket' were replaced by zeros in the previous section for plotting reasons. Thus, the missing values to be replaced are those equal to 0."
   ]
  },
  {
   "cell_type": "code",
   "execution_count": 30,
   "metadata": {},
   "outputs": [
    {
     "name": "stderr",
     "output_type": "stream",
     "text": [
      "C:\\Users\\Marina\\Anaconda3\\lib\\site-packages\\pandas\\core\\indexing.py:190: SettingWithCopyWarning: \n",
      "A value is trying to be set on a copy of a slice from a DataFrame\n",
      "\n",
      "See the caveats in the documentation: http://pandas.pydata.org/pandas-docs/stable/indexing.html#indexing-view-versus-copy\n",
      "  self._setitem_with_indexer(indexer, value)\n"
     ]
    }
   ],
   "source": [
    "df['Ticket'].loc[df['Ticket']==0] = df['Ticket'].value_counts().idxmax()"
   ]
  },
  {
   "cell_type": "markdown",
   "metadata": {},
   "source": [
    "The feature 'Age' has a smaller percentage of missing values; since this variable is thought to be important, the columns with missing values will not be removed; instead, the missing age values will be predicted "
   ]
  },
  {
   "cell_type": "markdown",
   "metadata": {},
   "source": [
    "## Creating new variables"
   ]
  },
  {
   "cell_type": "markdown",
   "metadata": {},
   "source": [
    "### Age grouping"
   ]
  },
  {
   "cell_type": "code",
   "execution_count": 31,
   "metadata": {
    "scrolled": true
   },
   "outputs": [
    {
     "data": {
      "image/png": "[encoded data removed]",
      "text/plain": [
       "<Figure size 432x288 with 1 Axes>"
      ]
     },
     "metadata": {
      "needs_background": "light"
     },
     "output_type": "display_data"
    }
   ],
   "source": [
    "# Divide age in 3 groups\n",
    "limit1 = 16\n",
    "limit2 = 30\n",
    "df['Age group'] = df['Age'].copy()\n",
    "df['Age group'].loc[df['Age']<=limit1] = 1\n",
    "df['Age group'].loc[(df['Age']>limit1) & (df['Age']<=limit2)] = 2\n",
    "df['Age group'].loc[df['Age']>limit2] = 3\n",
    "df['Age group'].value_counts()\n",
    "\n",
    "# Plot survival percentages:\n",
    "plt.plot(df['Age group'].loc[df['Survived']==1].value_counts(sort=False)/len(df),'o',label='Lived')\n",
    "plt.plot(df['Age group'].loc[df['Survived']==0].value_counts(sort=False)/len(df),'o',label='Died')\n",
    "plt.xticks([1,2,3])\n",
    "plt.xlabel('Age group')\n",
    "plt.ylabel('Percentage of passengers (%)')\n",
    "plt.legend()\n",
    "plt.show()"
   ]
  },
  {
   "cell_type": "markdown",
   "metadata": {},
   "source": [
    "### Ticket grouping\n",
    "\n",
    "From the histograms plotted in the previous section different fare groups are created:"
   ]
  },
  {
   "cell_type": "code",
   "execution_count": 32,
   "metadata": {},
   "outputs": [
    {
     "data": {
      "image/png": "[encoded data removed]",
      "text/plain": [
       "<Figure size 432x288 with 1 Axes>"
      ]
     },
     "metadata": {
      "needs_background": "light"
     },
     "output_type": "display_data"
    }
   ],
   "source": [
    "# Fare groups divided by 'Fare' data series quantiles \n",
    "df['Ticket group'] = df['Ticket'].copy()\n",
    "df['Ticket group'].loc[df['Ticket']<=10000] = 1\n",
    "df['Ticket group'].loc[(df['Ticket']>10000) & (df['Ticket']<=20000)] = 2\n",
    "df['Ticket group'].loc[(df['Ticket']>20000) & (df['Ticket']<=100000)] = 3\n",
    "df['Ticket group'].loc[(df['Ticket']>100000) & (df['Ticket']<=300000)] = 4\n",
    "df['Ticket group'].loc[(df['Ticket']>300000) & (df['Ticket']<=3000000)] = 5\n",
    "df['Ticket group'].loc[df['Ticket']>3000000] = 6\n",
    "df['Ticket group'].value_counts()\n",
    "\n",
    "# Plot survival percentages:\n",
    "plt.plot(df['Ticket group'].loc[df['Survived']==1].value_counts(sort=False)/len(df),'o',label='Lived')\n",
    "plt.plot(df['Ticket group'].loc[df['Survived']==0].value_counts(sort=False)/len(df),'o',label='Died')\n",
    "plt.xlabel('Ticket group')\n",
    "plt.ylabel('Percentage of passengers (%)')\n",
    "plt.legend()\n",
    "plt.show()"
   ]
  },
  {
   "cell_type": "markdown",
   "metadata": {},
   "source": [
    "### Family relationships"
   ]
  },
  {
   "cell_type": "markdown",
   "metadata": {},
   "source": [
    "Create a new column specifying if a person was travelling alone or accompained"
   ]
  },
  {
   "cell_type": "code",
   "execution_count": 33,
   "metadata": {},
   "outputs": [
    {
     "name": "stdout",
     "output_type": "stream",
     "text": [
      "891\n"
     ]
    },
    {
     "data": {
      "text/html": [
       "<div>\n",
       "<style scoped>\n",
       "    .dataframe tbody tr th:only-of-type {\n",
       "        vertical-align: middle;\n",
       "    }\n",
       "\n",
       "    .dataframe tbody tr th {\n",
       "        vertical-align: top;\n",
       "    }\n",
       "\n",
       "    .dataframe thead th {\n",
       "        text-align: right;\n",
       "    }\n",
       "</style>\n",
       "<table border=\"1\" class=\"dataframe\">\n",
       "  <thead>\n",
       "    <tr style=\"text-align: right;\">\n",
       "      <th></th>\n",
       "      <th>SibSp</th>\n",
       "      <th>Parch</th>\n",
       "      <th>Accompanied</th>\n",
       "      <th>Age</th>\n",
       "    </tr>\n",
       "  </thead>\n",
       "  <tbody>\n",
       "    <tr>\n",
       "      <th>0</th>\n",
       "      <td>1</td>\n",
       "      <td>0</td>\n",
       "      <td>1.0</td>\n",
       "      <td>22.0</td>\n",
       "    </tr>\n",
       "    <tr>\n",
       "      <th>1</th>\n",
       "      <td>1</td>\n",
       "      <td>0</td>\n",
       "      <td>1.0</td>\n",
       "      <td>38.0</td>\n",
       "    </tr>\n",
       "    <tr>\n",
       "      <th>2</th>\n",
       "      <td>0</td>\n",
       "      <td>0</td>\n",
       "      <td>0.0</td>\n",
       "      <td>26.0</td>\n",
       "    </tr>\n",
       "    <tr>\n",
       "      <th>3</th>\n",
       "      <td>1</td>\n",
       "      <td>0</td>\n",
       "      <td>1.0</td>\n",
       "      <td>35.0</td>\n",
       "    </tr>\n",
       "    <tr>\n",
       "      <th>4</th>\n",
       "      <td>0</td>\n",
       "      <td>0</td>\n",
       "      <td>0.0</td>\n",
       "      <td>35.0</td>\n",
       "    </tr>\n",
       "    <tr>\n",
       "      <th>5</th>\n",
       "      <td>0</td>\n",
       "      <td>0</td>\n",
       "      <td>0.0</td>\n",
       "      <td>27.0</td>\n",
       "    </tr>\n",
       "    <tr>\n",
       "      <th>6</th>\n",
       "      <td>0</td>\n",
       "      <td>0</td>\n",
       "      <td>0.0</td>\n",
       "      <td>54.0</td>\n",
       "    </tr>\n",
       "    <tr>\n",
       "      <th>7</th>\n",
       "      <td>3</td>\n",
       "      <td>1</td>\n",
       "      <td>1.0</td>\n",
       "      <td>2.0</td>\n",
       "    </tr>\n",
       "    <tr>\n",
       "      <th>8</th>\n",
       "      <td>0</td>\n",
       "      <td>2</td>\n",
       "      <td>1.0</td>\n",
       "      <td>27.0</td>\n",
       "    </tr>\n",
       "    <tr>\n",
       "      <th>9</th>\n",
       "      <td>1</td>\n",
       "      <td>0</td>\n",
       "      <td>1.0</td>\n",
       "      <td>14.0</td>\n",
       "    </tr>\n",
       "  </tbody>\n",
       "</table>\n",
       "</div>"
      ],
      "text/plain": [
       "   SibSp  Parch  Accompanied   Age\n",
       "0      1      0          1.0  22.0\n",
       "1      1      0          1.0  38.0\n",
       "2      0      0          0.0  26.0\n",
       "3      1      0          1.0  35.0\n",
       "4      0      0          0.0  35.0\n",
       "5      0      0          0.0  27.0\n",
       "6      0      0          0.0  54.0\n",
       "7      3      1          1.0   2.0\n",
       "8      0      2          1.0  27.0\n",
       "9      1      0          1.0  14.0"
      ]
     },
     "execution_count": 33,
     "metadata": {},
     "output_type": "execute_result"
    }
   ],
   "source": [
    "# Create 'accompained' series with zeris values and replace 0 for the indexes corresponding to 'SibSp' or 'Parch' greater than 0\n",
    "print(len(df['SibSp']))\n",
    "accompained = pd.Series(np.zeros(len(df)))\n",
    "accompained[df['SibSp'] > 0 ] = 1\n",
    "accompained[df['Parch'] > 0 ] = 1\n",
    "df['Accompanied'] = accompained\n",
    "\n",
    "df[['SibSp','Parch','Accompanied','Age']].head(10)"
   ]
  },
  {
   "cell_type": "markdown",
   "metadata": {},
   "source": [
    "Create another variable with the number of people one is travelling with:"
   ]
  },
  {
   "cell_type": "code",
   "execution_count": 34,
   "metadata": {},
   "outputs": [],
   "source": [
    "df['Companions'] = df['SibSp'] + df['Parch']"
   ]
  },
  {
   "cell_type": "markdown",
   "metadata": {},
   "source": [
    "### Fare grouping"
   ]
  },
  {
   "cell_type": "code",
   "execution_count": 35,
   "metadata": {},
   "outputs": [
    {
     "data": {
      "image/png": "[encoded data removed]",
      "text/plain": [
       "<Figure size 432x288 with 1 Axes>"
      ]
     },
     "metadata": {
      "needs_background": "light"
     },
     "output_type": "display_data"
    }
   ],
   "source": [
    "# Divide age in 3 groups\n",
    "limit1 = 20\n",
    "limit2 = 100\n",
    "df['Fare group'] = df['Fare'].copy()\n",
    "df['Fare group'].loc[df['Fare']<=20] = 1\n",
    "df['Fare group'].loc[(df['Fare']>20) & (df['Fare']<=50)] = 2\n",
    "df['Fare group'].loc[(df['Fare']>50) & (df['Fare']<=100)] = 3\n",
    "df['Fare group'].loc[df['Fare']>100] = 4\n",
    "df['Fare group'].value_counts()\n",
    "\n",
    "# Plot survival percentages:\n",
    "plt.plot(df['Fare group'].loc[df['Survived']==1].value_counts(sort=False)/len(df),'o',label='Lived')\n",
    "plt.plot(df['Fare group'].loc[df['Survived']==0].value_counts(sort=False)/len(df),'o',label='Died')\n",
    "plt.xticks([1,2,3,4])\n",
    "plt.xlabel('Fare group')\n",
    "plt.ylabel('Percentage of passengers (%)')\n",
    "plt.legend()\n",
    "plt.show()"
   ]
  },
  {
   "cell_type": "markdown",
   "metadata": {},
   "source": [
    "### Fare per passenger\n",
    "\n",
    "Let's look at the feature 'Fare' in relation to the number of companions and the passengers' class 'Pclass' to find out if the fare relates to the cabin price or to the price payed by each passenger"
   ]
  },
  {
   "cell_type": "code",
   "execution_count": 36,
   "metadata": {},
   "outputs": [
    {
     "data": {
      "image/png": "[encoded data removed]",
      "text/plain": [
       "<Figure size 432x288 with 1 Axes>"
      ]
     },
     "metadata": {
      "needs_background": "light"
     },
     "output_type": "display_data"
    }
   ],
   "source": [
    "# Data distribution in Boxplots \n",
    "sns.boxplot(x='Companions', y='Fare',\n",
    "            hue='Pclass',\n",
    "            data=df)\n",
    "plt.grid()\n",
    "plt.ylim(0,100)\n",
    "plt.show()"
   ]
  },
  {
   "cell_type": "markdown",
   "metadata": {},
   "source": [
    "It looks like the fair increases with an increasing number of companions. This indicates that the fare is related to the price paid for the cabin and not per passenger. Thus, another feature can be created for the fare per passenger"
   ]
  },
  {
   "cell_type": "code",
   "execution_count": 37,
   "metadata": {},
   "outputs": [
    {
     "data": {
      "image/png": "[encoded data removed]",
      "text/plain": [
       "<Figure size 432x288 with 1 Axes>"
      ]
     },
     "metadata": {
      "needs_background": "light"
     },
     "output_type": "display_data"
    }
   ],
   "source": [
    "#df['Ncabins'] = df['Cabin'].str.replace('[^a-zA-Z]', '').str.len()\n",
    "df['FarePerPs'] = df['Fare'] / (df['Companions']+1) #/df['Ncabins']\n",
    "\n",
    "# Data distribution in Boxplots \n",
    "sns.boxplot(x='Companions', y='FarePerPs',\n",
    "            hue='Pclass',\n",
    "            data=df)\n",
    "plt.grid()\n",
    "plt.ylim(0,40)\n",
    "plt.show()"
   ]
  },
  {
   "cell_type": "markdown",
   "metadata": {},
   "source": [
    "In the new boxplots regarding the fare per passenger have more even fares regardless of the amount of companions"
   ]
  },
  {
   "cell_type": "markdown",
   "metadata": {},
   "source": [
    "### Age data provided\n",
    "Create another feature of binary values: 0 for age values provided and 1 for age values missing"
   ]
  },
  {
   "cell_type": "code",
   "execution_count": 38,
   "metadata": {},
   "outputs": [
    {
     "data": {
      "text/plain": [
       "1.0    714\n",
       "0.0    177\n",
       "Name: Age_data, dtype: int64"
      ]
     },
     "execution_count": 38,
     "metadata": {},
     "output_type": "execute_result"
    }
   ],
   "source": [
    "df['Age_data'] = df_train['Age'].copy()\n",
    "df['Age_data'].loc[df['Age_data'].notnull()] = 1\n",
    "df['Age_data'].loc[df['Age_data'].isnull()] = 0\n",
    "df['Age_data'].value_counts()"
   ]
  },
  {
   "cell_type": "markdown",
   "metadata": {},
   "source": [
    "## Dropping unnecessary features"
   ]
  },
  {
   "cell_type": "code",
   "execution_count": 39,
   "metadata": {},
   "outputs": [
    {
     "data": {
      "text/html": [
       "<div>\n",
       "<style scoped>\n",
       "    .dataframe tbody tr th:only-of-type {\n",
       "        vertical-align: middle;\n",
       "    }\n",
       "\n",
       "    .dataframe tbody tr th {\n",
       "        vertical-align: top;\n",
       "    }\n",
       "\n",
       "    .dataframe thead th {\n",
       "        text-align: right;\n",
       "    }\n",
       "</style>\n",
       "<table border=\"1\" class=\"dataframe\">\n",
       "  <thead>\n",
       "    <tr style=\"text-align: right;\">\n",
       "      <th></th>\n",
       "      <th>PassengerId</th>\n",
       "      <th>Survived</th>\n",
       "      <th>Pclass</th>\n",
       "      <th>Name</th>\n",
       "      <th>Sex</th>\n",
       "      <th>Age</th>\n",
       "      <th>SibSp</th>\n",
       "      <th>Parch</th>\n",
       "      <th>Ticket</th>\n",
       "      <th>Fare</th>\n",
       "      <th>Cabin</th>\n",
       "      <th>Embarked</th>\n",
       "      <th>Title</th>\n",
       "      <th>Age group</th>\n",
       "      <th>Ticket group</th>\n",
       "      <th>Accompanied</th>\n",
       "      <th>Companions</th>\n",
       "      <th>Fare group</th>\n",
       "      <th>FarePerPs</th>\n",
       "      <th>Age_data</th>\n",
       "    </tr>\n",
       "  </thead>\n",
       "  <tbody>\n",
       "    <tr>\n",
       "      <th>0</th>\n",
       "      <td>1</td>\n",
       "      <td>0</td>\n",
       "      <td>3</td>\n",
       "      <td>Braund, Mr. Owen Harris</td>\n",
       "      <td>male</td>\n",
       "      <td>22.0</td>\n",
       "      <td>1</td>\n",
       "      <td>0</td>\n",
       "      <td>5.0</td>\n",
       "      <td>7.2500</td>\n",
       "      <td>None</td>\n",
       "      <td>S</td>\n",
       "      <td>Mr</td>\n",
       "      <td>2.0</td>\n",
       "      <td>1.0</td>\n",
       "      <td>1.0</td>\n",
       "      <td>1</td>\n",
       "      <td>1.0</td>\n",
       "      <td>3.62500</td>\n",
       "      <td>1.0</td>\n",
       "    </tr>\n",
       "    <tr>\n",
       "      <th>1</th>\n",
       "      <td>2</td>\n",
       "      <td>1</td>\n",
       "      <td>1</td>\n",
       "      <td>Cumings, Mrs. John Bradley (Florence Briggs Th...</td>\n",
       "      <td>female</td>\n",
       "      <td>38.0</td>\n",
       "      <td>1</td>\n",
       "      <td>0</td>\n",
       "      <td>17599.0</td>\n",
       "      <td>71.2833</td>\n",
       "      <td>C</td>\n",
       "      <td>C</td>\n",
       "      <td>Mrs</td>\n",
       "      <td>3.0</td>\n",
       "      <td>2.0</td>\n",
       "      <td>1.0</td>\n",
       "      <td>1</td>\n",
       "      <td>3.0</td>\n",
       "      <td>35.64165</td>\n",
       "      <td>1.0</td>\n",
       "    </tr>\n",
       "    <tr>\n",
       "      <th>2</th>\n",
       "      <td>3</td>\n",
       "      <td>1</td>\n",
       "      <td>3</td>\n",
       "      <td>Heikkinen, Miss. Laina</td>\n",
       "      <td>female</td>\n",
       "      <td>26.0</td>\n",
       "      <td>0</td>\n",
       "      <td>0</td>\n",
       "      <td>2.0</td>\n",
       "      <td>7.9250</td>\n",
       "      <td>None</td>\n",
       "      <td>S</td>\n",
       "      <td>Miss</td>\n",
       "      <td>2.0</td>\n",
       "      <td>1.0</td>\n",
       "      <td>0.0</td>\n",
       "      <td>0</td>\n",
       "      <td>1.0</td>\n",
       "      <td>7.92500</td>\n",
       "      <td>1.0</td>\n",
       "    </tr>\n",
       "    <tr>\n",
       "      <th>3</th>\n",
       "      <td>4</td>\n",
       "      <td>1</td>\n",
       "      <td>1</td>\n",
       "      <td>Futrelle, Mrs. Jacques Heath (Lily May Peel)</td>\n",
       "      <td>female</td>\n",
       "      <td>35.0</td>\n",
       "      <td>1</td>\n",
       "      <td>0</td>\n",
       "      <td>113803.0</td>\n",
       "      <td>53.1000</td>\n",
       "      <td>C</td>\n",
       "      <td>S</td>\n",
       "      <td>Mrs</td>\n",
       "      <td>3.0</td>\n",
       "      <td>4.0</td>\n",
       "      <td>1.0</td>\n",
       "      <td>1</td>\n",
       "      <td>3.0</td>\n",
       "      <td>26.55000</td>\n",
       "      <td>1.0</td>\n",
       "    </tr>\n",
       "    <tr>\n",
       "      <th>4</th>\n",
       "      <td>5</td>\n",
       "      <td>0</td>\n",
       "      <td>3</td>\n",
       "      <td>Allen, Mr. William Henry</td>\n",
       "      <td>male</td>\n",
       "      <td>35.0</td>\n",
       "      <td>0</td>\n",
       "      <td>0</td>\n",
       "      <td>373450.0</td>\n",
       "      <td>8.0500</td>\n",
       "      <td>None</td>\n",
       "      <td>S</td>\n",
       "      <td>Mr</td>\n",
       "      <td>3.0</td>\n",
       "      <td>5.0</td>\n",
       "      <td>0.0</td>\n",
       "      <td>0</td>\n",
       "      <td>1.0</td>\n",
       "      <td>8.05000</td>\n",
       "      <td>1.0</td>\n",
       "    </tr>\n",
       "  </tbody>\n",
       "</table>\n",
       "</div>"
      ],
      "text/plain": [
       "   PassengerId  Survived  Pclass  \\\n",
       "0            1         0       3   \n",
       "1            2         1       1   \n",
       "2            3         1       3   \n",
       "3            4         1       1   \n",
       "4            5         0       3   \n",
       "\n",
       "                                                Name     Sex   Age  SibSp  \\\n",
       "0                            Braund, Mr. Owen Harris    male  22.0      1   \n",
       "1  Cumings, Mrs. John Bradley (Florence Briggs Th...  female  38.0      1   \n",
       "2                             Heikkinen, Miss. Laina  female  26.0      0   \n",
       "3       Futrelle, Mrs. Jacques Heath (Lily May Peel)  female  35.0      1   \n",
       "4                           Allen, Mr. William Henry    male  35.0      0   \n",
       "\n",
       "   Parch    Ticket     Fare Cabin Embarked  Title  Age group  Ticket group  \\\n",
       "0      0       5.0   7.2500  None        S     Mr        2.0           1.0   \n",
       "1      0   17599.0  71.2833     C        C    Mrs        3.0           2.0   \n",
       "2      0       2.0   7.9250  None        S   Miss        2.0           1.0   \n",
       "3      0  113803.0  53.1000     C        S    Mrs        3.0           4.0   \n",
       "4      0  373450.0   8.0500  None        S     Mr        3.0           5.0   \n",
       "\n",
       "   Accompanied  Companions  Fare group  FarePerPs  Age_data  \n",
       "0          1.0           1         1.0    3.62500       1.0  \n",
       "1          1.0           1         3.0   35.64165       1.0  \n",
       "2          0.0           0         1.0    7.92500       1.0  \n",
       "3          1.0           1         3.0   26.55000       1.0  \n",
       "4          0.0           0         1.0    8.05000       1.0  "
      ]
     },
     "execution_count": 39,
     "metadata": {},
     "output_type": "execute_result"
    }
   ],
   "source": [
    "df.head()"
   ]
  },
  {
   "cell_type": "code",
   "execution_count": 40,
   "metadata": {},
   "outputs": [
    {
     "data": {
      "text/html": [
       "<div>\n",
       "<style scoped>\n",
       "    .dataframe tbody tr th:only-of-type {\n",
       "        vertical-align: middle;\n",
       "    }\n",
       "\n",
       "    .dataframe tbody tr th {\n",
       "        vertical-align: top;\n",
       "    }\n",
       "\n",
       "    .dataframe thead th {\n",
       "        text-align: right;\n",
       "    }\n",
       "</style>\n",
       "<table border=\"1\" class=\"dataframe\">\n",
       "  <thead>\n",
       "    <tr style=\"text-align: right;\">\n",
       "      <th></th>\n",
       "      <th>PassengerId</th>\n",
       "      <th>Survived</th>\n",
       "      <th>Pclass</th>\n",
       "      <th>Sex</th>\n",
       "      <th>Age</th>\n",
       "      <th>Ticket</th>\n",
       "      <th>Fare</th>\n",
       "      <th>Cabin</th>\n",
       "      <th>Embarked</th>\n",
       "      <th>Title</th>\n",
       "      <th>Age group</th>\n",
       "      <th>Ticket group</th>\n",
       "      <th>Accompanied</th>\n",
       "      <th>Companions</th>\n",
       "      <th>Fare group</th>\n",
       "      <th>FarePerPs</th>\n",
       "      <th>Age_data</th>\n",
       "    </tr>\n",
       "  </thead>\n",
       "  <tbody>\n",
       "    <tr>\n",
       "      <th>0</th>\n",
       "      <td>1</td>\n",
       "      <td>0</td>\n",
       "      <td>3</td>\n",
       "      <td>male</td>\n",
       "      <td>22.0</td>\n",
       "      <td>5.0</td>\n",
       "      <td>7.2500</td>\n",
       "      <td>None</td>\n",
       "      <td>S</td>\n",
       "      <td>Mr</td>\n",
       "      <td>2.0</td>\n",
       "      <td>1.0</td>\n",
       "      <td>1.0</td>\n",
       "      <td>1</td>\n",
       "      <td>1.0</td>\n",
       "      <td>3.62500</td>\n",
       "      <td>1.0</td>\n",
       "    </tr>\n",
       "    <tr>\n",
       "      <th>1</th>\n",
       "      <td>2</td>\n",
       "      <td>1</td>\n",
       "      <td>1</td>\n",
       "      <td>female</td>\n",
       "      <td>38.0</td>\n",
       "      <td>17599.0</td>\n",
       "      <td>71.2833</td>\n",
       "      <td>C</td>\n",
       "      <td>C</td>\n",
       "      <td>Mrs</td>\n",
       "      <td>3.0</td>\n",
       "      <td>2.0</td>\n",
       "      <td>1.0</td>\n",
       "      <td>1</td>\n",
       "      <td>3.0</td>\n",
       "      <td>35.64165</td>\n",
       "      <td>1.0</td>\n",
       "    </tr>\n",
       "    <tr>\n",
       "      <th>2</th>\n",
       "      <td>3</td>\n",
       "      <td>1</td>\n",
       "      <td>3</td>\n",
       "      <td>female</td>\n",
       "      <td>26.0</td>\n",
       "      <td>2.0</td>\n",
       "      <td>7.9250</td>\n",
       "      <td>None</td>\n",
       "      <td>S</td>\n",
       "      <td>Miss</td>\n",
       "      <td>2.0</td>\n",
       "      <td>1.0</td>\n",
       "      <td>0.0</td>\n",
       "      <td>0</td>\n",
       "      <td>1.0</td>\n",
       "      <td>7.92500</td>\n",
       "      <td>1.0</td>\n",
       "    </tr>\n",
       "    <tr>\n",
       "      <th>3</th>\n",
       "      <td>4</td>\n",
       "      <td>1</td>\n",
       "      <td>1</td>\n",
       "      <td>female</td>\n",
       "      <td>35.0</td>\n",
       "      <td>113803.0</td>\n",
       "      <td>53.1000</td>\n",
       "      <td>C</td>\n",
       "      <td>S</td>\n",
       "      <td>Mrs</td>\n",
       "      <td>3.0</td>\n",
       "      <td>4.0</td>\n",
       "      <td>1.0</td>\n",
       "      <td>1</td>\n",
       "      <td>3.0</td>\n",
       "      <td>26.55000</td>\n",
       "      <td>1.0</td>\n",
       "    </tr>\n",
       "    <tr>\n",
       "      <th>4</th>\n",
       "      <td>5</td>\n",
       "      <td>0</td>\n",
       "      <td>3</td>\n",
       "      <td>male</td>\n",
       "      <td>35.0</td>\n",
       "      <td>373450.0</td>\n",
       "      <td>8.0500</td>\n",
       "      <td>None</td>\n",
       "      <td>S</td>\n",
       "      <td>Mr</td>\n",
       "      <td>3.0</td>\n",
       "      <td>5.0</td>\n",
       "      <td>0.0</td>\n",
       "      <td>0</td>\n",
       "      <td>1.0</td>\n",
       "      <td>8.05000</td>\n",
       "      <td>1.0</td>\n",
       "    </tr>\n",
       "  </tbody>\n",
       "</table>\n",
       "</div>"
      ],
      "text/plain": [
       "   PassengerId  Survived  Pclass     Sex   Age    Ticket     Fare Cabin  \\\n",
       "0            1         0       3    male  22.0       5.0   7.2500  None   \n",
       "1            2         1       1  female  38.0   17599.0  71.2833     C   \n",
       "2            3         1       3  female  26.0       2.0   7.9250  None   \n",
       "3            4         1       1  female  35.0  113803.0  53.1000     C   \n",
       "4            5         0       3    male  35.0  373450.0   8.0500  None   \n",
       "\n",
       "  Embarked  Title  Age group  Ticket group  Accompanied  Companions  \\\n",
       "0        S     Mr        2.0           1.0          1.0           1   \n",
       "1        C    Mrs        3.0           2.0          1.0           1   \n",
       "2        S   Miss        2.0           1.0          0.0           0   \n",
       "3        S    Mrs        3.0           4.0          1.0           1   \n",
       "4        S     Mr        3.0           5.0          0.0           0   \n",
       "\n",
       "   Fare group  FarePerPs  Age_data  \n",
       "0         1.0    3.62500       1.0  \n",
       "1         3.0   35.64165       1.0  \n",
       "2         1.0    7.92500       1.0  \n",
       "3         3.0   26.55000       1.0  \n",
       "4         1.0    8.05000       1.0  "
      ]
     },
     "execution_count": 40,
     "metadata": {},
     "output_type": "execute_result"
    }
   ],
   "source": [
    "df = df.drop(['Name', 'SibSp', 'Parch'], axis=1).copy()\n",
    "df.head()"
   ]
  },
  {
   "cell_type": "markdown",
   "metadata": {},
   "source": [
    "## Encoding categorical variables\n",
    "The remaining categorical variables into numerical data to be interpreted by a ML algorithm."
   ]
  },
  {
   "cell_type": "code",
   "execution_count": 41,
   "metadata": {},
   "outputs": [
    {
     "data": {
      "text/html": [
       "<div>\n",
       "<style scoped>\n",
       "    .dataframe tbody tr th:only-of-type {\n",
       "        vertical-align: middle;\n",
       "    }\n",
       "\n",
       "    .dataframe tbody tr th {\n",
       "        vertical-align: top;\n",
       "    }\n",
       "\n",
       "    .dataframe thead th {\n",
       "        text-align: right;\n",
       "    }\n",
       "</style>\n",
       "<table border=\"1\" class=\"dataframe\">\n",
       "  <thead>\n",
       "    <tr style=\"text-align: right;\">\n",
       "      <th></th>\n",
       "      <th>PassengerId</th>\n",
       "      <th>Survived</th>\n",
       "      <th>Pclass</th>\n",
       "      <th>Sex</th>\n",
       "      <th>Age</th>\n",
       "      <th>Ticket</th>\n",
       "      <th>Fare</th>\n",
       "      <th>Cabin</th>\n",
       "      <th>Embarked</th>\n",
       "      <th>Title</th>\n",
       "      <th>Age group</th>\n",
       "      <th>Ticket group</th>\n",
       "      <th>Accompanied</th>\n",
       "      <th>Companions</th>\n",
       "      <th>Fare group</th>\n",
       "      <th>FarePerPs</th>\n",
       "      <th>Age_data</th>\n",
       "    </tr>\n",
       "  </thead>\n",
       "  <tbody>\n",
       "    <tr>\n",
       "      <th>0</th>\n",
       "      <td>1</td>\n",
       "      <td>0</td>\n",
       "      <td>3</td>\n",
       "      <td>1</td>\n",
       "      <td>22.0</td>\n",
       "      <td>5.0</td>\n",
       "      <td>7.2500</td>\n",
       "      <td>7</td>\n",
       "      <td>2</td>\n",
       "      <td>5</td>\n",
       "      <td>2.0</td>\n",
       "      <td>1.0</td>\n",
       "      <td>1.0</td>\n",
       "      <td>1</td>\n",
       "      <td>1.0</td>\n",
       "      <td>3.62500</td>\n",
       "      <td>1.0</td>\n",
       "    </tr>\n",
       "    <tr>\n",
       "      <th>1</th>\n",
       "      <td>2</td>\n",
       "      <td>1</td>\n",
       "      <td>1</td>\n",
       "      <td>0</td>\n",
       "      <td>38.0</td>\n",
       "      <td>17599.0</td>\n",
       "      <td>71.2833</td>\n",
       "      <td>2</td>\n",
       "      <td>0</td>\n",
       "      <td>6</td>\n",
       "      <td>3.0</td>\n",
       "      <td>2.0</td>\n",
       "      <td>1.0</td>\n",
       "      <td>1</td>\n",
       "      <td>3.0</td>\n",
       "      <td>35.64165</td>\n",
       "      <td>1.0</td>\n",
       "    </tr>\n",
       "    <tr>\n",
       "      <th>2</th>\n",
       "      <td>3</td>\n",
       "      <td>1</td>\n",
       "      <td>3</td>\n",
       "      <td>0</td>\n",
       "      <td>26.0</td>\n",
       "      <td>2.0</td>\n",
       "      <td>7.9250</td>\n",
       "      <td>7</td>\n",
       "      <td>2</td>\n",
       "      <td>4</td>\n",
       "      <td>2.0</td>\n",
       "      <td>1.0</td>\n",
       "      <td>0.0</td>\n",
       "      <td>0</td>\n",
       "      <td>1.0</td>\n",
       "      <td>7.92500</td>\n",
       "      <td>1.0</td>\n",
       "    </tr>\n",
       "    <tr>\n",
       "      <th>3</th>\n",
       "      <td>4</td>\n",
       "      <td>1</td>\n",
       "      <td>1</td>\n",
       "      <td>0</td>\n",
       "      <td>35.0</td>\n",
       "      <td>113803.0</td>\n",
       "      <td>53.1000</td>\n",
       "      <td>2</td>\n",
       "      <td>2</td>\n",
       "      <td>6</td>\n",
       "      <td>3.0</td>\n",
       "      <td>4.0</td>\n",
       "      <td>1.0</td>\n",
       "      <td>1</td>\n",
       "      <td>3.0</td>\n",
       "      <td>26.55000</td>\n",
       "      <td>1.0</td>\n",
       "    </tr>\n",
       "    <tr>\n",
       "      <th>4</th>\n",
       "      <td>5</td>\n",
       "      <td>0</td>\n",
       "      <td>3</td>\n",
       "      <td>1</td>\n",
       "      <td>35.0</td>\n",
       "      <td>373450.0</td>\n",
       "      <td>8.0500</td>\n",
       "      <td>7</td>\n",
       "      <td>2</td>\n",
       "      <td>5</td>\n",
       "      <td>3.0</td>\n",
       "      <td>5.0</td>\n",
       "      <td>0.0</td>\n",
       "      <td>0</td>\n",
       "      <td>1.0</td>\n",
       "      <td>8.05000</td>\n",
       "      <td>1.0</td>\n",
       "    </tr>\n",
       "  </tbody>\n",
       "</table>\n",
       "</div>"
      ],
      "text/plain": [
       "   PassengerId  Survived  Pclass  Sex   Age    Ticket     Fare  Cabin  \\\n",
       "0            1         0       3    1  22.0       5.0   7.2500      7   \n",
       "1            2         1       1    0  38.0   17599.0  71.2833      2   \n",
       "2            3         1       3    0  26.0       2.0   7.9250      7   \n",
       "3            4         1       1    0  35.0  113803.0  53.1000      2   \n",
       "4            5         0       3    1  35.0  373450.0   8.0500      7   \n",
       "\n",
       "   Embarked  Title  Age group  Ticket group  Accompanied  Companions  \\\n",
       "0         2      5        2.0           1.0          1.0           1   \n",
       "1         0      6        3.0           2.0          1.0           1   \n",
       "2         2      4        2.0           1.0          0.0           0   \n",
       "3         2      6        3.0           4.0          1.0           1   \n",
       "4         2      5        3.0           5.0          0.0           0   \n",
       "\n",
       "   Fare group  FarePerPs  Age_data  \n",
       "0         1.0    3.62500       1.0  \n",
       "1         3.0   35.64165       1.0  \n",
       "2         1.0    7.92500       1.0  \n",
       "3         3.0   26.55000       1.0  \n",
       "4         1.0    8.05000       1.0  "
      ]
     },
     "execution_count": 41,
     "metadata": {},
     "output_type": "execute_result"
    }
   ],
   "source": [
    "# Defining a funtion to convert categorical data into numerical\n",
    "def ConvertCategoricalData(df):\n",
    "    s = (df.dtypes == 'object')\n",
    "    categorical_cols = list(s[s].index)           \n",
    "    le = LabelEncoder()\n",
    "    df[categorical_cols] = df[categorical_cols].apply(lambda series: pd.Series(\n",
    "        LabelEncoder().fit_transform(series[series.notnull()]),\n",
    "        index=series[series.notnull()].index\n",
    "    ))\n",
    "    return df.copy()\n",
    "\n",
    "\n",
    "# Converting categorical variables\n",
    "df = ConvertCategoricalData(df)\n",
    "\n",
    "# Visualise converted data set\n",
    "df.head()"
   ]
  },
  {
   "cell_type": "markdown",
   "metadata": {},
   "source": [
    "## Save clean dataframe"
   ]
  },
  {
   "cell_type": "code",
   "execution_count": 42,
   "metadata": {},
   "outputs": [
    {
     "data": {
      "text/html": [
       "<div>\n",
       "<style scoped>\n",
       "    .dataframe tbody tr th:only-of-type {\n",
       "        vertical-align: middle;\n",
       "    }\n",
       "\n",
       "    .dataframe tbody tr th {\n",
       "        vertical-align: top;\n",
       "    }\n",
       "\n",
       "    .dataframe thead th {\n",
       "        text-align: right;\n",
       "    }\n",
       "</style>\n",
       "<table border=\"1\" class=\"dataframe\">\n",
       "  <thead>\n",
       "    <tr style=\"text-align: right;\">\n",
       "      <th></th>\n",
       "      <th>PassengerId</th>\n",
       "      <th>Survived</th>\n",
       "      <th>Pclass</th>\n",
       "      <th>Sex</th>\n",
       "      <th>Age</th>\n",
       "      <th>Ticket</th>\n",
       "      <th>Fare</th>\n",
       "      <th>Cabin</th>\n",
       "      <th>Embarked</th>\n",
       "      <th>Title</th>\n",
       "      <th>Age group</th>\n",
       "      <th>Ticket group</th>\n",
       "      <th>Accompanied</th>\n",
       "      <th>Companions</th>\n",
       "      <th>Fare group</th>\n",
       "      <th>FarePerPs</th>\n",
       "      <th>Age_data</th>\n",
       "    </tr>\n",
       "  </thead>\n",
       "  <tbody>\n",
       "    <tr>\n",
       "      <th>0</th>\n",
       "      <td>1.0</td>\n",
       "      <td>0.0</td>\n",
       "      <td>3.0</td>\n",
       "      <td>1.0</td>\n",
       "      <td>22.0</td>\n",
       "      <td>5.0</td>\n",
       "      <td>7.2500</td>\n",
       "      <td>7.0</td>\n",
       "      <td>2.0</td>\n",
       "      <td>5.0</td>\n",
       "      <td>2.0</td>\n",
       "      <td>1.0</td>\n",
       "      <td>1.0</td>\n",
       "      <td>1.0</td>\n",
       "      <td>1.0</td>\n",
       "      <td>3.62500</td>\n",
       "      <td>1.0</td>\n",
       "    </tr>\n",
       "    <tr>\n",
       "      <th>1</th>\n",
       "      <td>2.0</td>\n",
       "      <td>1.0</td>\n",
       "      <td>1.0</td>\n",
       "      <td>0.0</td>\n",
       "      <td>38.0</td>\n",
       "      <td>17599.0</td>\n",
       "      <td>71.2833</td>\n",
       "      <td>2.0</td>\n",
       "      <td>0.0</td>\n",
       "      <td>6.0</td>\n",
       "      <td>3.0</td>\n",
       "      <td>2.0</td>\n",
       "      <td>1.0</td>\n",
       "      <td>1.0</td>\n",
       "      <td>3.0</td>\n",
       "      <td>35.64165</td>\n",
       "      <td>1.0</td>\n",
       "    </tr>\n",
       "    <tr>\n",
       "      <th>2</th>\n",
       "      <td>3.0</td>\n",
       "      <td>1.0</td>\n",
       "      <td>3.0</td>\n",
       "      <td>0.0</td>\n",
       "      <td>26.0</td>\n",
       "      <td>2.0</td>\n",
       "      <td>7.9250</td>\n",
       "      <td>7.0</td>\n",
       "      <td>2.0</td>\n",
       "      <td>4.0</td>\n",
       "      <td>2.0</td>\n",
       "      <td>1.0</td>\n",
       "      <td>0.0</td>\n",
       "      <td>0.0</td>\n",
       "      <td>1.0</td>\n",
       "      <td>7.92500</td>\n",
       "      <td>1.0</td>\n",
       "    </tr>\n",
       "    <tr>\n",
       "      <th>3</th>\n",
       "      <td>4.0</td>\n",
       "      <td>1.0</td>\n",
       "      <td>1.0</td>\n",
       "      <td>0.0</td>\n",
       "      <td>35.0</td>\n",
       "      <td>113803.0</td>\n",
       "      <td>53.1000</td>\n",
       "      <td>2.0</td>\n",
       "      <td>2.0</td>\n",
       "      <td>6.0</td>\n",
       "      <td>3.0</td>\n",
       "      <td>4.0</td>\n",
       "      <td>1.0</td>\n",
       "      <td>1.0</td>\n",
       "      <td>3.0</td>\n",
       "      <td>26.55000</td>\n",
       "      <td>1.0</td>\n",
       "    </tr>\n",
       "    <tr>\n",
       "      <th>4</th>\n",
       "      <td>5.0</td>\n",
       "      <td>0.0</td>\n",
       "      <td>3.0</td>\n",
       "      <td>1.0</td>\n",
       "      <td>35.0</td>\n",
       "      <td>373450.0</td>\n",
       "      <td>8.0500</td>\n",
       "      <td>7.0</td>\n",
       "      <td>2.0</td>\n",
       "      <td>5.0</td>\n",
       "      <td>3.0</td>\n",
       "      <td>5.0</td>\n",
       "      <td>0.0</td>\n",
       "      <td>0.0</td>\n",
       "      <td>1.0</td>\n",
       "      <td>8.05000</td>\n",
       "      <td>1.0</td>\n",
       "    </tr>\n",
       "  </tbody>\n",
       "</table>\n",
       "</div>"
      ],
      "text/plain": [
       "   PassengerId  Survived  Pclass  Sex   Age    Ticket     Fare  Cabin  \\\n",
       "0          1.0       0.0     3.0  1.0  22.0       5.0   7.2500    7.0   \n",
       "1          2.0       1.0     1.0  0.0  38.0   17599.0  71.2833    2.0   \n",
       "2          3.0       1.0     3.0  0.0  26.0       2.0   7.9250    7.0   \n",
       "3          4.0       1.0     1.0  0.0  35.0  113803.0  53.1000    2.0   \n",
       "4          5.0       0.0     3.0  1.0  35.0  373450.0   8.0500    7.0   \n",
       "\n",
       "   Embarked  Title  Age group  Ticket group  Accompanied  Companions  \\\n",
       "0       2.0    5.0        2.0           1.0          1.0         1.0   \n",
       "1       0.0    6.0        3.0           2.0          1.0         1.0   \n",
       "2       2.0    4.0        2.0           1.0          0.0         0.0   \n",
       "3       2.0    6.0        3.0           4.0          1.0         1.0   \n",
       "4       2.0    5.0        3.0           5.0          0.0         0.0   \n",
       "\n",
       "   Fare group  FarePerPs  Age_data  \n",
       "0         1.0    3.62500       1.0  \n",
       "1         3.0   35.64165       1.0  \n",
       "2         1.0    7.92500       1.0  \n",
       "3         3.0   26.55000       1.0  \n",
       "4         1.0    8.05000       1.0  "
      ]
     },
     "execution_count": 42,
     "metadata": {},
     "output_type": "execute_result"
    }
   ],
   "source": [
    "# Convert all features to float\n",
    "df = df.astype('float').copy()\n",
    "\n",
    "# Save clean dataframe into a .csv file\n",
    "df.to_csv(\"Clean_Titanic_train_dataframe.csv\", index=False)\n",
    "df.head()"
   ]
  },
  {
   "cell_type": "code",
   "execution_count": 43,
   "metadata": {},
   "outputs": [
    {
     "name": "stdout",
     "output_type": "stream",
     "text": [
      "<class 'pandas.core.frame.DataFrame'>\n",
      "RangeIndex: 891 entries, 0 to 890\n",
      "Data columns (total 17 columns):\n",
      "PassengerId     891 non-null float64\n",
      "Survived        891 non-null float64\n",
      "Pclass          891 non-null float64\n",
      "Sex             891 non-null float64\n",
      "Age             891 non-null float64\n",
      "Ticket          891 non-null float64\n",
      "Fare            891 non-null float64\n",
      "Cabin           891 non-null float64\n",
      "Embarked        891 non-null float64\n",
      "Title           891 non-null float64\n",
      "Age group       891 non-null float64\n",
      "Ticket group    891 non-null float64\n",
      "Accompanied     891 non-null float64\n",
      "Companions      891 non-null float64\n",
      "Fare group      891 non-null float64\n",
      "FarePerPs       891 non-null float64\n",
      "Age_data        891 non-null float64\n",
      "dtypes: float64(17)\n",
      "memory usage: 118.4 KB\n"
     ]
    }
   ],
   "source": [
    "df.info()"
   ]
  },
  {
   "cell_type": "code",
   "execution_count": null,
   "metadata": {},
   "outputs": [],
   "source": []
  }
 ],
 "metadata": {
  "kernelspec": {
   "display_name": "Python 3",
   "language": "python",
   "name": "python3"
  },
  "language_info": {
   "codemirror_mode": {
    "name": "ipython",
    "version": 3
   },
   "file_extension": ".py",
   "mimetype": "text/x-python",
   "name": "python",
   "nbconvert_exporter": "python",
   "pygments_lexer": "ipython3",
   "version": "3.7.3"
  }
 },
 "nbformat": 4,
 "nbformat_minor": 2
}
